{
  "nbformat": 4,
  "nbformat_minor": 0,
  "metadata": {
    "colab": {
      "provenance": [],
      "authorship_tag": "ABX9TyMib+NCSdl+UuKHPiqitsC/"
    },
    "kernelspec": {
      "name": "python3",
      "display_name": "Python 3"
    },
    "language_info": {
      "name": "python"
    }
  },
  "cells": [
    {
      "cell_type": "code",
      "execution_count": 1,
      "metadata": {
        "id": "3dmmQOCZrhy5"
      },
      "outputs": [],
      "source": [
        "import numpy as np\n",
        "import pandas as pd\n",
        "import matplotlib.pyplot as plt\n",
        "from sklearn.metrics import r2_score\n",
        "from scipy.stats import chi2_contingency\n",
        "from statsmodels.stats.outliers_influence import variance_inflation_factor\n",
        "from sklearn.model_selection import train_test_split\n",
        "from sklearn.ensemble import RandomForestClassifier\n",
        "from sklearn.metrics import accuracy_score, classification_report, precision_recall_fscore_support\n",
        "import warnings\n",
        "import os\n"
      ]
    },
    {
      "cell_type": "code",
      "source": [
        "df1 = pd.read_excel('case_study1.xlsx')\n",
        "df2 = pd.read_excel('case_study2.xlsx')"
      ],
      "metadata": {
        "id": "KX6kU6m7rmYI"
      },
      "execution_count": 2,
      "outputs": []
    },
    {
      "cell_type": "code",
      "source": [
        "df1.sample(5)"
      ],
      "metadata": {
        "colab": {
          "base_uri": "https://localhost:8080/",
          "height": 255
        },
        "id": "7bKXJvYXtVGn",
        "outputId": "5df5ae52-23b9-4dc5-d504-b501767549bd"
      },
      "execution_count": 3,
      "outputs": [
        {
          "output_type": "execute_result",
          "data": {
            "text/plain": [
              "       PROSPECTID  Total_TL  Tot_Closed_TL  Tot_Active_TL  \\\n",
              "11130       11131         2              2              0   \n",
              "8225         8226         1              1              0   \n",
              "47125       47126         7              4              3   \n",
              "25834       25835         5              1              4   \n",
              "38052       38053         7              4              3   \n",
              "\n",
              "       Total_TL_opened_L6M  Tot_TL_closed_L6M  pct_tl_open_L6M  \\\n",
              "11130                    0                  0            0.000   \n",
              "8225                     0                  0            0.000   \n",
              "47125                    0                  0            0.000   \n",
              "25834                    4                  1            0.800   \n",
              "38052                    6                  4            0.857   \n",
              "\n",
              "       pct_tl_closed_L6M  pct_active_tl  pct_closed_tl  ...  CC_TL  \\\n",
              "11130              0.000          0.000          1.000  ...      0   \n",
              "8225               0.000          0.000          1.000  ...      0   \n",
              "47125              0.000          0.429          0.571  ...      0   \n",
              "25834              0.200          0.800          0.200  ...      0   \n",
              "38052              0.571          0.429          0.571  ...      0   \n",
              "\n",
              "       Consumer_TL  Gold_TL  Home_TL  PL_TL  Secured_TL  Unsecured_TL  \\\n",
              "11130            0        2        0      0           2             0   \n",
              "8225             1        0        0      0           0             1   \n",
              "47125            0        1        0      0           7             0   \n",
              "25834            1        0        0      2           2             3   \n",
              "38052            1        0        0      2           4             3   \n",
              "\n",
              "       Other_TL  Age_Oldest_TL  Age_Newest_TL  \n",
              "11130         0             63             63  \n",
              "8225          0             31             31  \n",
              "47125         2            140              8  \n",
              "25834         1             10              3  \n",
              "38052         4              6              3  \n",
              "\n",
              "[5 rows x 26 columns]"
            ],
            "text/html": [
              "\n",
              "  <div id=\"df-6e78a9db-67f9-4636-9050-5a0c6d4fcc07\" class=\"colab-df-container\">\n",
              "    <div>\n",
              "<style scoped>\n",
              "    .dataframe tbody tr th:only-of-type {\n",
              "        vertical-align: middle;\n",
              "    }\n",
              "\n",
              "    .dataframe tbody tr th {\n",
              "        vertical-align: top;\n",
              "    }\n",
              "\n",
              "    .dataframe thead th {\n",
              "        text-align: right;\n",
              "    }\n",
              "</style>\n",
              "<table border=\"1\" class=\"dataframe\">\n",
              "  <thead>\n",
              "    <tr style=\"text-align: right;\">\n",
              "      <th></th>\n",
              "      <th>PROSPECTID</th>\n",
              "      <th>Total_TL</th>\n",
              "      <th>Tot_Closed_TL</th>\n",
              "      <th>Tot_Active_TL</th>\n",
              "      <th>Total_TL_opened_L6M</th>\n",
              "      <th>Tot_TL_closed_L6M</th>\n",
              "      <th>pct_tl_open_L6M</th>\n",
              "      <th>pct_tl_closed_L6M</th>\n",
              "      <th>pct_active_tl</th>\n",
              "      <th>pct_closed_tl</th>\n",
              "      <th>...</th>\n",
              "      <th>CC_TL</th>\n",
              "      <th>Consumer_TL</th>\n",
              "      <th>Gold_TL</th>\n",
              "      <th>Home_TL</th>\n",
              "      <th>PL_TL</th>\n",
              "      <th>Secured_TL</th>\n",
              "      <th>Unsecured_TL</th>\n",
              "      <th>Other_TL</th>\n",
              "      <th>Age_Oldest_TL</th>\n",
              "      <th>Age_Newest_TL</th>\n",
              "    </tr>\n",
              "  </thead>\n",
              "  <tbody>\n",
              "    <tr>\n",
              "      <th>11130</th>\n",
              "      <td>11131</td>\n",
              "      <td>2</td>\n",
              "      <td>2</td>\n",
              "      <td>0</td>\n",
              "      <td>0</td>\n",
              "      <td>0</td>\n",
              "      <td>0.000</td>\n",
              "      <td>0.000</td>\n",
              "      <td>0.000</td>\n",
              "      <td>1.000</td>\n",
              "      <td>...</td>\n",
              "      <td>0</td>\n",
              "      <td>0</td>\n",
              "      <td>2</td>\n",
              "      <td>0</td>\n",
              "      <td>0</td>\n",
              "      <td>2</td>\n",
              "      <td>0</td>\n",
              "      <td>0</td>\n",
              "      <td>63</td>\n",
              "      <td>63</td>\n",
              "    </tr>\n",
              "    <tr>\n",
              "      <th>8225</th>\n",
              "      <td>8226</td>\n",
              "      <td>1</td>\n",
              "      <td>1</td>\n",
              "      <td>0</td>\n",
              "      <td>0</td>\n",
              "      <td>0</td>\n",
              "      <td>0.000</td>\n",
              "      <td>0.000</td>\n",
              "      <td>0.000</td>\n",
              "      <td>1.000</td>\n",
              "      <td>...</td>\n",
              "      <td>0</td>\n",
              "      <td>1</td>\n",
              "      <td>0</td>\n",
              "      <td>0</td>\n",
              "      <td>0</td>\n",
              "      <td>0</td>\n",
              "      <td>1</td>\n",
              "      <td>0</td>\n",
              "      <td>31</td>\n",
              "      <td>31</td>\n",
              "    </tr>\n",
              "    <tr>\n",
              "      <th>47125</th>\n",
              "      <td>47126</td>\n",
              "      <td>7</td>\n",
              "      <td>4</td>\n",
              "      <td>3</td>\n",
              "      <td>0</td>\n",
              "      <td>0</td>\n",
              "      <td>0.000</td>\n",
              "      <td>0.000</td>\n",
              "      <td>0.429</td>\n",
              "      <td>0.571</td>\n",
              "      <td>...</td>\n",
              "      <td>0</td>\n",
              "      <td>0</td>\n",
              "      <td>1</td>\n",
              "      <td>0</td>\n",
              "      <td>0</td>\n",
              "      <td>7</td>\n",
              "      <td>0</td>\n",
              "      <td>2</td>\n",
              "      <td>140</td>\n",
              "      <td>8</td>\n",
              "    </tr>\n",
              "    <tr>\n",
              "      <th>25834</th>\n",
              "      <td>25835</td>\n",
              "      <td>5</td>\n",
              "      <td>1</td>\n",
              "      <td>4</td>\n",
              "      <td>4</td>\n",
              "      <td>1</td>\n",
              "      <td>0.800</td>\n",
              "      <td>0.200</td>\n",
              "      <td>0.800</td>\n",
              "      <td>0.200</td>\n",
              "      <td>...</td>\n",
              "      <td>0</td>\n",
              "      <td>1</td>\n",
              "      <td>0</td>\n",
              "      <td>0</td>\n",
              "      <td>2</td>\n",
              "      <td>2</td>\n",
              "      <td>3</td>\n",
              "      <td>1</td>\n",
              "      <td>10</td>\n",
              "      <td>3</td>\n",
              "    </tr>\n",
              "    <tr>\n",
              "      <th>38052</th>\n",
              "      <td>38053</td>\n",
              "      <td>7</td>\n",
              "      <td>4</td>\n",
              "      <td>3</td>\n",
              "      <td>6</td>\n",
              "      <td>4</td>\n",
              "      <td>0.857</td>\n",
              "      <td>0.571</td>\n",
              "      <td>0.429</td>\n",
              "      <td>0.571</td>\n",
              "      <td>...</td>\n",
              "      <td>0</td>\n",
              "      <td>1</td>\n",
              "      <td>0</td>\n",
              "      <td>0</td>\n",
              "      <td>2</td>\n",
              "      <td>4</td>\n",
              "      <td>3</td>\n",
              "      <td>4</td>\n",
              "      <td>6</td>\n",
              "      <td>3</td>\n",
              "    </tr>\n",
              "  </tbody>\n",
              "</table>\n",
              "<p>5 rows × 26 columns</p>\n",
              "</div>\n",
              "    <div class=\"colab-df-buttons\">\n",
              "\n",
              "  <div class=\"colab-df-container\">\n",
              "    <button class=\"colab-df-convert\" onclick=\"convertToInteractive('df-6e78a9db-67f9-4636-9050-5a0c6d4fcc07')\"\n",
              "            title=\"Convert this dataframe to an interactive table.\"\n",
              "            style=\"display:none;\">\n",
              "\n",
              "  <svg xmlns=\"http://www.w3.org/2000/svg\" height=\"24px\" viewBox=\"0 -960 960 960\">\n",
              "    <path d=\"M120-120v-720h720v720H120Zm60-500h600v-160H180v160Zm220 220h160v-160H400v160Zm0 220h160v-160H400v160ZM180-400h160v-160H180v160Zm440 0h160v-160H620v160ZM180-180h160v-160H180v160Zm440 0h160v-160H620v160Z\"/>\n",
              "  </svg>\n",
              "    </button>\n",
              "\n",
              "  <style>\n",
              "    .colab-df-container {\n",
              "      display:flex;\n",
              "      gap: 12px;\n",
              "    }\n",
              "\n",
              "    .colab-df-convert {\n",
              "      background-color: #E8F0FE;\n",
              "      border: none;\n",
              "      border-radius: 50%;\n",
              "      cursor: pointer;\n",
              "      display: none;\n",
              "      fill: #1967D2;\n",
              "      height: 32px;\n",
              "      padding: 0 0 0 0;\n",
              "      width: 32px;\n",
              "    }\n",
              "\n",
              "    .colab-df-convert:hover {\n",
              "      background-color: #E2EBFA;\n",
              "      box-shadow: 0px 1px 2px rgba(60, 64, 67, 0.3), 0px 1px 3px 1px rgba(60, 64, 67, 0.15);\n",
              "      fill: #174EA6;\n",
              "    }\n",
              "\n",
              "    .colab-df-buttons div {\n",
              "      margin-bottom: 4px;\n",
              "    }\n",
              "\n",
              "    [theme=dark] .colab-df-convert {\n",
              "      background-color: #3B4455;\n",
              "      fill: #D2E3FC;\n",
              "    }\n",
              "\n",
              "    [theme=dark] .colab-df-convert:hover {\n",
              "      background-color: #434B5C;\n",
              "      box-shadow: 0px 1px 3px 1px rgba(0, 0, 0, 0.15);\n",
              "      filter: drop-shadow(0px 1px 2px rgba(0, 0, 0, 0.3));\n",
              "      fill: #FFFFFF;\n",
              "    }\n",
              "  </style>\n",
              "\n",
              "    <script>\n",
              "      const buttonEl =\n",
              "        document.querySelector('#df-6e78a9db-67f9-4636-9050-5a0c6d4fcc07 button.colab-df-convert');\n",
              "      buttonEl.style.display =\n",
              "        google.colab.kernel.accessAllowed ? 'block' : 'none';\n",
              "\n",
              "      async function convertToInteractive(key) {\n",
              "        const element = document.querySelector('#df-6e78a9db-67f9-4636-9050-5a0c6d4fcc07');\n",
              "        const dataTable =\n",
              "          await google.colab.kernel.invokeFunction('convertToInteractive',\n",
              "                                                    [key], {});\n",
              "        if (!dataTable) return;\n",
              "\n",
              "        const docLinkHtml = 'Like what you see? Visit the ' +\n",
              "          '<a target=\"_blank\" href=https://colab.research.google.com/notebooks/data_table.ipynb>data table notebook</a>'\n",
              "          + ' to learn more about interactive tables.';\n",
              "        element.innerHTML = '';\n",
              "        dataTable['output_type'] = 'display_data';\n",
              "        await google.colab.output.renderOutput(dataTable, element);\n",
              "        const docLink = document.createElement('div');\n",
              "        docLink.innerHTML = docLinkHtml;\n",
              "        element.appendChild(docLink);\n",
              "      }\n",
              "    </script>\n",
              "  </div>\n",
              "\n",
              "\n",
              "<div id=\"df-d11604cd-90e9-4884-9313-339061de49fc\">\n",
              "  <button class=\"colab-df-quickchart\" onclick=\"quickchart('df-d11604cd-90e9-4884-9313-339061de49fc')\"\n",
              "            title=\"Suggest charts\"\n",
              "            style=\"display:none;\">\n",
              "\n",
              "<svg xmlns=\"http://www.w3.org/2000/svg\" height=\"24px\"viewBox=\"0 0 24 24\"\n",
              "     width=\"24px\">\n",
              "    <g>\n",
              "        <path d=\"M19 3H5c-1.1 0-2 .9-2 2v14c0 1.1.9 2 2 2h14c1.1 0 2-.9 2-2V5c0-1.1-.9-2-2-2zM9 17H7v-7h2v7zm4 0h-2V7h2v10zm4 0h-2v-4h2v4z\"/>\n",
              "    </g>\n",
              "</svg>\n",
              "  </button>\n",
              "\n",
              "<style>\n",
              "  .colab-df-quickchart {\n",
              "      --bg-color: #E8F0FE;\n",
              "      --fill-color: #1967D2;\n",
              "      --hover-bg-color: #E2EBFA;\n",
              "      --hover-fill-color: #174EA6;\n",
              "      --disabled-fill-color: #AAA;\n",
              "      --disabled-bg-color: #DDD;\n",
              "  }\n",
              "\n",
              "  [theme=dark] .colab-df-quickchart {\n",
              "      --bg-color: #3B4455;\n",
              "      --fill-color: #D2E3FC;\n",
              "      --hover-bg-color: #434B5C;\n",
              "      --hover-fill-color: #FFFFFF;\n",
              "      --disabled-bg-color: #3B4455;\n",
              "      --disabled-fill-color: #666;\n",
              "  }\n",
              "\n",
              "  .colab-df-quickchart {\n",
              "    background-color: var(--bg-color);\n",
              "    border: none;\n",
              "    border-radius: 50%;\n",
              "    cursor: pointer;\n",
              "    display: none;\n",
              "    fill: var(--fill-color);\n",
              "    height: 32px;\n",
              "    padding: 0;\n",
              "    width: 32px;\n",
              "  }\n",
              "\n",
              "  .colab-df-quickchart:hover {\n",
              "    background-color: var(--hover-bg-color);\n",
              "    box-shadow: 0 1px 2px rgba(60, 64, 67, 0.3), 0 1px 3px 1px rgba(60, 64, 67, 0.15);\n",
              "    fill: var(--button-hover-fill-color);\n",
              "  }\n",
              "\n",
              "  .colab-df-quickchart-complete:disabled,\n",
              "  .colab-df-quickchart-complete:disabled:hover {\n",
              "    background-color: var(--disabled-bg-color);\n",
              "    fill: var(--disabled-fill-color);\n",
              "    box-shadow: none;\n",
              "  }\n",
              "\n",
              "  .colab-df-spinner {\n",
              "    border: 2px solid var(--fill-color);\n",
              "    border-color: transparent;\n",
              "    border-bottom-color: var(--fill-color);\n",
              "    animation:\n",
              "      spin 1s steps(1) infinite;\n",
              "  }\n",
              "\n",
              "  @keyframes spin {\n",
              "    0% {\n",
              "      border-color: transparent;\n",
              "      border-bottom-color: var(--fill-color);\n",
              "      border-left-color: var(--fill-color);\n",
              "    }\n",
              "    20% {\n",
              "      border-color: transparent;\n",
              "      border-left-color: var(--fill-color);\n",
              "      border-top-color: var(--fill-color);\n",
              "    }\n",
              "    30% {\n",
              "      border-color: transparent;\n",
              "      border-left-color: var(--fill-color);\n",
              "      border-top-color: var(--fill-color);\n",
              "      border-right-color: var(--fill-color);\n",
              "    }\n",
              "    40% {\n",
              "      border-color: transparent;\n",
              "      border-right-color: var(--fill-color);\n",
              "      border-top-color: var(--fill-color);\n",
              "    }\n",
              "    60% {\n",
              "      border-color: transparent;\n",
              "      border-right-color: var(--fill-color);\n",
              "    }\n",
              "    80% {\n",
              "      border-color: transparent;\n",
              "      border-right-color: var(--fill-color);\n",
              "      border-bottom-color: var(--fill-color);\n",
              "    }\n",
              "    90% {\n",
              "      border-color: transparent;\n",
              "      border-bottom-color: var(--fill-color);\n",
              "    }\n",
              "  }\n",
              "</style>\n",
              "\n",
              "  <script>\n",
              "    async function quickchart(key) {\n",
              "      const quickchartButtonEl =\n",
              "        document.querySelector('#' + key + ' button');\n",
              "      quickchartButtonEl.disabled = true;  // To prevent multiple clicks.\n",
              "      quickchartButtonEl.classList.add('colab-df-spinner');\n",
              "      try {\n",
              "        const charts = await google.colab.kernel.invokeFunction(\n",
              "            'suggestCharts', [key], {});\n",
              "      } catch (error) {\n",
              "        console.error('Error during call to suggestCharts:', error);\n",
              "      }\n",
              "      quickchartButtonEl.classList.remove('colab-df-spinner');\n",
              "      quickchartButtonEl.classList.add('colab-df-quickchart-complete');\n",
              "    }\n",
              "    (() => {\n",
              "      let quickchartButtonEl =\n",
              "        document.querySelector('#df-d11604cd-90e9-4884-9313-339061de49fc button');\n",
              "      quickchartButtonEl.style.display =\n",
              "        google.colab.kernel.accessAllowed ? 'block' : 'none';\n",
              "    })();\n",
              "  </script>\n",
              "</div>\n",
              "\n",
              "    </div>\n",
              "  </div>\n"
            ],
            "application/vnd.google.colaboratory.intrinsic+json": {
              "type": "dataframe"
            }
          },
          "metadata": {},
          "execution_count": 3
        }
      ]
    },
    {
      "cell_type": "code",
      "source": [
        "df2.sample(5)"
      ],
      "metadata": {
        "colab": {
          "base_uri": "https://localhost:8080/",
          "height": 255
        },
        "id": "qx_xYE5Qts1R",
        "outputId": "e04c76dd-2472-45a2-bbc9-ab1f2942919e"
      },
      "execution_count": 4,
      "outputs": [
        {
          "output_type": "execute_result",
          "data": {
            "text/plain": [
              "       PROSPECTID  time_since_recent_payment  time_since_first_deliquency  \\\n",
              "43764       43765                        205                       -99999   \n",
              "25570       25571                         50                       -99999   \n",
              "46325       46326                        553                       -99999   \n",
              "29713       29714                         46                           25   \n",
              "783           784                         77                       -99999   \n",
              "\n",
              "       time_since_recent_deliquency  num_times_delinquent  \\\n",
              "43764                        -99999                     0   \n",
              "25570                        -99999                     0   \n",
              "46325                        -99999                     0   \n",
              "29713                             5                     7   \n",
              "783                          -99999                     0   \n",
              "\n",
              "       max_delinquency_level  max_recent_level_of_deliq  num_deliq_6mts  \\\n",
              "43764                 -99999                          0               0   \n",
              "25570                 -99999                          0               0   \n",
              "46325                 -99999                          0               0   \n",
              "29713                     57                         57               1   \n",
              "783                   -99999                          0               0   \n",
              "\n",
              "       num_deliq_12mts  num_deliq_6_12mts  ...  pct_CC_enq_L6m_of_L12m  \\\n",
              "43764                0                  0  ...                     1.0   \n",
              "25570                0                  0  ...                     0.0   \n",
              "46325                0                  0  ...                     0.0   \n",
              "29713                1                  0  ...                     0.0   \n",
              "783                  0                  0  ...                     0.5   \n",
              "\n",
              "       pct_PL_enq_L6m_of_ever  pct_CC_enq_L6m_of_ever  \\\n",
              "43764                   1.000                     1.0   \n",
              "25570                   0.000                     0.0   \n",
              "46325                   0.000                     0.0   \n",
              "29713                   1.000                     0.0   \n",
              "783                     0.375                     0.5   \n",
              "\n",
              "       max_unsec_exposure_inPct  HL_Flag  GL_Flag  last_prod_enq2  \\\n",
              "43764                -99999.000        1        0              PL   \n",
              "25570                     2.001        0        0          others   \n",
              "46325                -99999.000        1        0    ConsumerLoan   \n",
              "29713                     0.717        1        0              PL   \n",
              "783                       0.389        0        0          others   \n",
              "\n",
              "       first_prod_enq2  Credit_Score  Approved_Flag  \n",
              "43764     ConsumerLoan           657             P4  \n",
              "25570           others           710             P1  \n",
              "46325           others           683             P2  \n",
              "29713               AL           676             P2  \n",
              "783                 PL           643             P4  \n",
              "\n",
              "[5 rows x 62 columns]"
            ],
            "text/html": [
              "\n",
              "  <div id=\"df-bc230f0c-c595-4e0c-850f-aeb8e8f30e98\" class=\"colab-df-container\">\n",
              "    <div>\n",
              "<style scoped>\n",
              "    .dataframe tbody tr th:only-of-type {\n",
              "        vertical-align: middle;\n",
              "    }\n",
              "\n",
              "    .dataframe tbody tr th {\n",
              "        vertical-align: top;\n",
              "    }\n",
              "\n",
              "    .dataframe thead th {\n",
              "        text-align: right;\n",
              "    }\n",
              "</style>\n",
              "<table border=\"1\" class=\"dataframe\">\n",
              "  <thead>\n",
              "    <tr style=\"text-align: right;\">\n",
              "      <th></th>\n",
              "      <th>PROSPECTID</th>\n",
              "      <th>time_since_recent_payment</th>\n",
              "      <th>time_since_first_deliquency</th>\n",
              "      <th>time_since_recent_deliquency</th>\n",
              "      <th>num_times_delinquent</th>\n",
              "      <th>max_delinquency_level</th>\n",
              "      <th>max_recent_level_of_deliq</th>\n",
              "      <th>num_deliq_6mts</th>\n",
              "      <th>num_deliq_12mts</th>\n",
              "      <th>num_deliq_6_12mts</th>\n",
              "      <th>...</th>\n",
              "      <th>pct_CC_enq_L6m_of_L12m</th>\n",
              "      <th>pct_PL_enq_L6m_of_ever</th>\n",
              "      <th>pct_CC_enq_L6m_of_ever</th>\n",
              "      <th>max_unsec_exposure_inPct</th>\n",
              "      <th>HL_Flag</th>\n",
              "      <th>GL_Flag</th>\n",
              "      <th>last_prod_enq2</th>\n",
              "      <th>first_prod_enq2</th>\n",
              "      <th>Credit_Score</th>\n",
              "      <th>Approved_Flag</th>\n",
              "    </tr>\n",
              "  </thead>\n",
              "  <tbody>\n",
              "    <tr>\n",
              "      <th>43764</th>\n",
              "      <td>43765</td>\n",
              "      <td>205</td>\n",
              "      <td>-99999</td>\n",
              "      <td>-99999</td>\n",
              "      <td>0</td>\n",
              "      <td>-99999</td>\n",
              "      <td>0</td>\n",
              "      <td>0</td>\n",
              "      <td>0</td>\n",
              "      <td>0</td>\n",
              "      <td>...</td>\n",
              "      <td>1.0</td>\n",
              "      <td>1.000</td>\n",
              "      <td>1.0</td>\n",
              "      <td>-99999.000</td>\n",
              "      <td>1</td>\n",
              "      <td>0</td>\n",
              "      <td>PL</td>\n",
              "      <td>ConsumerLoan</td>\n",
              "      <td>657</td>\n",
              "      <td>P4</td>\n",
              "    </tr>\n",
              "    <tr>\n",
              "      <th>25570</th>\n",
              "      <td>25571</td>\n",
              "      <td>50</td>\n",
              "      <td>-99999</td>\n",
              "      <td>-99999</td>\n",
              "      <td>0</td>\n",
              "      <td>-99999</td>\n",
              "      <td>0</td>\n",
              "      <td>0</td>\n",
              "      <td>0</td>\n",
              "      <td>0</td>\n",
              "      <td>...</td>\n",
              "      <td>0.0</td>\n",
              "      <td>0.000</td>\n",
              "      <td>0.0</td>\n",
              "      <td>2.001</td>\n",
              "      <td>0</td>\n",
              "      <td>0</td>\n",
              "      <td>others</td>\n",
              "      <td>others</td>\n",
              "      <td>710</td>\n",
              "      <td>P1</td>\n",
              "    </tr>\n",
              "    <tr>\n",
              "      <th>46325</th>\n",
              "      <td>46326</td>\n",
              "      <td>553</td>\n",
              "      <td>-99999</td>\n",
              "      <td>-99999</td>\n",
              "      <td>0</td>\n",
              "      <td>-99999</td>\n",
              "      <td>0</td>\n",
              "      <td>0</td>\n",
              "      <td>0</td>\n",
              "      <td>0</td>\n",
              "      <td>...</td>\n",
              "      <td>0.0</td>\n",
              "      <td>0.000</td>\n",
              "      <td>0.0</td>\n",
              "      <td>-99999.000</td>\n",
              "      <td>1</td>\n",
              "      <td>0</td>\n",
              "      <td>ConsumerLoan</td>\n",
              "      <td>others</td>\n",
              "      <td>683</td>\n",
              "      <td>P2</td>\n",
              "    </tr>\n",
              "    <tr>\n",
              "      <th>29713</th>\n",
              "      <td>29714</td>\n",
              "      <td>46</td>\n",
              "      <td>25</td>\n",
              "      <td>5</td>\n",
              "      <td>7</td>\n",
              "      <td>57</td>\n",
              "      <td>57</td>\n",
              "      <td>1</td>\n",
              "      <td>1</td>\n",
              "      <td>0</td>\n",
              "      <td>...</td>\n",
              "      <td>0.0</td>\n",
              "      <td>1.000</td>\n",
              "      <td>0.0</td>\n",
              "      <td>0.717</td>\n",
              "      <td>1</td>\n",
              "      <td>0</td>\n",
              "      <td>PL</td>\n",
              "      <td>AL</td>\n",
              "      <td>676</td>\n",
              "      <td>P2</td>\n",
              "    </tr>\n",
              "    <tr>\n",
              "      <th>783</th>\n",
              "      <td>784</td>\n",
              "      <td>77</td>\n",
              "      <td>-99999</td>\n",
              "      <td>-99999</td>\n",
              "      <td>0</td>\n",
              "      <td>-99999</td>\n",
              "      <td>0</td>\n",
              "      <td>0</td>\n",
              "      <td>0</td>\n",
              "      <td>0</td>\n",
              "      <td>...</td>\n",
              "      <td>0.5</td>\n",
              "      <td>0.375</td>\n",
              "      <td>0.5</td>\n",
              "      <td>0.389</td>\n",
              "      <td>0</td>\n",
              "      <td>0</td>\n",
              "      <td>others</td>\n",
              "      <td>PL</td>\n",
              "      <td>643</td>\n",
              "      <td>P4</td>\n",
              "    </tr>\n",
              "  </tbody>\n",
              "</table>\n",
              "<p>5 rows × 62 columns</p>\n",
              "</div>\n",
              "    <div class=\"colab-df-buttons\">\n",
              "\n",
              "  <div class=\"colab-df-container\">\n",
              "    <button class=\"colab-df-convert\" onclick=\"convertToInteractive('df-bc230f0c-c595-4e0c-850f-aeb8e8f30e98')\"\n",
              "            title=\"Convert this dataframe to an interactive table.\"\n",
              "            style=\"display:none;\">\n",
              "\n",
              "  <svg xmlns=\"http://www.w3.org/2000/svg\" height=\"24px\" viewBox=\"0 -960 960 960\">\n",
              "    <path d=\"M120-120v-720h720v720H120Zm60-500h600v-160H180v160Zm220 220h160v-160H400v160Zm0 220h160v-160H400v160ZM180-400h160v-160H180v160Zm440 0h160v-160H620v160ZM180-180h160v-160H180v160Zm440 0h160v-160H620v160Z\"/>\n",
              "  </svg>\n",
              "    </button>\n",
              "\n",
              "  <style>\n",
              "    .colab-df-container {\n",
              "      display:flex;\n",
              "      gap: 12px;\n",
              "    }\n",
              "\n",
              "    .colab-df-convert {\n",
              "      background-color: #E8F0FE;\n",
              "      border: none;\n",
              "      border-radius: 50%;\n",
              "      cursor: pointer;\n",
              "      display: none;\n",
              "      fill: #1967D2;\n",
              "      height: 32px;\n",
              "      padding: 0 0 0 0;\n",
              "      width: 32px;\n",
              "    }\n",
              "\n",
              "    .colab-df-convert:hover {\n",
              "      background-color: #E2EBFA;\n",
              "      box-shadow: 0px 1px 2px rgba(60, 64, 67, 0.3), 0px 1px 3px 1px rgba(60, 64, 67, 0.15);\n",
              "      fill: #174EA6;\n",
              "    }\n",
              "\n",
              "    .colab-df-buttons div {\n",
              "      margin-bottom: 4px;\n",
              "    }\n",
              "\n",
              "    [theme=dark] .colab-df-convert {\n",
              "      background-color: #3B4455;\n",
              "      fill: #D2E3FC;\n",
              "    }\n",
              "\n",
              "    [theme=dark] .colab-df-convert:hover {\n",
              "      background-color: #434B5C;\n",
              "      box-shadow: 0px 1px 3px 1px rgba(0, 0, 0, 0.15);\n",
              "      filter: drop-shadow(0px 1px 2px rgba(0, 0, 0, 0.3));\n",
              "      fill: #FFFFFF;\n",
              "    }\n",
              "  </style>\n",
              "\n",
              "    <script>\n",
              "      const buttonEl =\n",
              "        document.querySelector('#df-bc230f0c-c595-4e0c-850f-aeb8e8f30e98 button.colab-df-convert');\n",
              "      buttonEl.style.display =\n",
              "        google.colab.kernel.accessAllowed ? 'block' : 'none';\n",
              "\n",
              "      async function convertToInteractive(key) {\n",
              "        const element = document.querySelector('#df-bc230f0c-c595-4e0c-850f-aeb8e8f30e98');\n",
              "        const dataTable =\n",
              "          await google.colab.kernel.invokeFunction('convertToInteractive',\n",
              "                                                    [key], {});\n",
              "        if (!dataTable) return;\n",
              "\n",
              "        const docLinkHtml = 'Like what you see? Visit the ' +\n",
              "          '<a target=\"_blank\" href=https://colab.research.google.com/notebooks/data_table.ipynb>data table notebook</a>'\n",
              "          + ' to learn more about interactive tables.';\n",
              "        element.innerHTML = '';\n",
              "        dataTable['output_type'] = 'display_data';\n",
              "        await google.colab.output.renderOutput(dataTable, element);\n",
              "        const docLink = document.createElement('div');\n",
              "        docLink.innerHTML = docLinkHtml;\n",
              "        element.appendChild(docLink);\n",
              "      }\n",
              "    </script>\n",
              "  </div>\n",
              "\n",
              "\n",
              "<div id=\"df-c04341ab-de40-4cb9-a0a0-5148f91bb798\">\n",
              "  <button class=\"colab-df-quickchart\" onclick=\"quickchart('df-c04341ab-de40-4cb9-a0a0-5148f91bb798')\"\n",
              "            title=\"Suggest charts\"\n",
              "            style=\"display:none;\">\n",
              "\n",
              "<svg xmlns=\"http://www.w3.org/2000/svg\" height=\"24px\"viewBox=\"0 0 24 24\"\n",
              "     width=\"24px\">\n",
              "    <g>\n",
              "        <path d=\"M19 3H5c-1.1 0-2 .9-2 2v14c0 1.1.9 2 2 2h14c1.1 0 2-.9 2-2V5c0-1.1-.9-2-2-2zM9 17H7v-7h2v7zm4 0h-2V7h2v10zm4 0h-2v-4h2v4z\"/>\n",
              "    </g>\n",
              "</svg>\n",
              "  </button>\n",
              "\n",
              "<style>\n",
              "  .colab-df-quickchart {\n",
              "      --bg-color: #E8F0FE;\n",
              "      --fill-color: #1967D2;\n",
              "      --hover-bg-color: #E2EBFA;\n",
              "      --hover-fill-color: #174EA6;\n",
              "      --disabled-fill-color: #AAA;\n",
              "      --disabled-bg-color: #DDD;\n",
              "  }\n",
              "\n",
              "  [theme=dark] .colab-df-quickchart {\n",
              "      --bg-color: #3B4455;\n",
              "      --fill-color: #D2E3FC;\n",
              "      --hover-bg-color: #434B5C;\n",
              "      --hover-fill-color: #FFFFFF;\n",
              "      --disabled-bg-color: #3B4455;\n",
              "      --disabled-fill-color: #666;\n",
              "  }\n",
              "\n",
              "  .colab-df-quickchart {\n",
              "    background-color: var(--bg-color);\n",
              "    border: none;\n",
              "    border-radius: 50%;\n",
              "    cursor: pointer;\n",
              "    display: none;\n",
              "    fill: var(--fill-color);\n",
              "    height: 32px;\n",
              "    padding: 0;\n",
              "    width: 32px;\n",
              "  }\n",
              "\n",
              "  .colab-df-quickchart:hover {\n",
              "    background-color: var(--hover-bg-color);\n",
              "    box-shadow: 0 1px 2px rgba(60, 64, 67, 0.3), 0 1px 3px 1px rgba(60, 64, 67, 0.15);\n",
              "    fill: var(--button-hover-fill-color);\n",
              "  }\n",
              "\n",
              "  .colab-df-quickchart-complete:disabled,\n",
              "  .colab-df-quickchart-complete:disabled:hover {\n",
              "    background-color: var(--disabled-bg-color);\n",
              "    fill: var(--disabled-fill-color);\n",
              "    box-shadow: none;\n",
              "  }\n",
              "\n",
              "  .colab-df-spinner {\n",
              "    border: 2px solid var(--fill-color);\n",
              "    border-color: transparent;\n",
              "    border-bottom-color: var(--fill-color);\n",
              "    animation:\n",
              "      spin 1s steps(1) infinite;\n",
              "  }\n",
              "\n",
              "  @keyframes spin {\n",
              "    0% {\n",
              "      border-color: transparent;\n",
              "      border-bottom-color: var(--fill-color);\n",
              "      border-left-color: var(--fill-color);\n",
              "    }\n",
              "    20% {\n",
              "      border-color: transparent;\n",
              "      border-left-color: var(--fill-color);\n",
              "      border-top-color: var(--fill-color);\n",
              "    }\n",
              "    30% {\n",
              "      border-color: transparent;\n",
              "      border-left-color: var(--fill-color);\n",
              "      border-top-color: var(--fill-color);\n",
              "      border-right-color: var(--fill-color);\n",
              "    }\n",
              "    40% {\n",
              "      border-color: transparent;\n",
              "      border-right-color: var(--fill-color);\n",
              "      border-top-color: var(--fill-color);\n",
              "    }\n",
              "    60% {\n",
              "      border-color: transparent;\n",
              "      border-right-color: var(--fill-color);\n",
              "    }\n",
              "    80% {\n",
              "      border-color: transparent;\n",
              "      border-right-color: var(--fill-color);\n",
              "      border-bottom-color: var(--fill-color);\n",
              "    }\n",
              "    90% {\n",
              "      border-color: transparent;\n",
              "      border-bottom-color: var(--fill-color);\n",
              "    }\n",
              "  }\n",
              "</style>\n",
              "\n",
              "  <script>\n",
              "    async function quickchart(key) {\n",
              "      const quickchartButtonEl =\n",
              "        document.querySelector('#' + key + ' button');\n",
              "      quickchartButtonEl.disabled = true;  // To prevent multiple clicks.\n",
              "      quickchartButtonEl.classList.add('colab-df-spinner');\n",
              "      try {\n",
              "        const charts = await google.colab.kernel.invokeFunction(\n",
              "            'suggestCharts', [key], {});\n",
              "      } catch (error) {\n",
              "        console.error('Error during call to suggestCharts:', error);\n",
              "      }\n",
              "      quickchartButtonEl.classList.remove('colab-df-spinner');\n",
              "      quickchartButtonEl.classList.add('colab-df-quickchart-complete');\n",
              "    }\n",
              "    (() => {\n",
              "      let quickchartButtonEl =\n",
              "        document.querySelector('#df-c04341ab-de40-4cb9-a0a0-5148f91bb798 button');\n",
              "      quickchartButtonEl.style.display =\n",
              "        google.colab.kernel.accessAllowed ? 'block' : 'none';\n",
              "    })();\n",
              "  </script>\n",
              "</div>\n",
              "\n",
              "    </div>\n",
              "  </div>\n"
            ],
            "application/vnd.google.colaboratory.intrinsic+json": {
              "type": "dataframe"
            }
          },
          "metadata": {},
          "execution_count": 4
        }
      ]
    },
    {
      "cell_type": "code",
      "source": [
        "df1 = df1.loc[df1['Age_Oldest_TL'] != -99999]\n",
        "df1.shape"
      ],
      "metadata": {
        "colab": {
          "base_uri": "https://localhost:8080/"
        },
        "id": "e58Fpp6X9V3i",
        "outputId": "f25eb897-3daa-4b4f-df85-e293b55e0976"
      },
      "execution_count": 5,
      "outputs": [
        {
          "output_type": "execute_result",
          "data": {
            "text/plain": [
              "(51296, 26)"
            ]
          },
          "metadata": {},
          "execution_count": 5
        }
      ]
    },
    {
      "cell_type": "code",
      "source": [
        "columns_to_remove = []\n",
        "for i in df2.columns:\n",
        "  if df2.loc[df2[i] == -99999].shape[0] > 10000:\n",
        "    columns_to_remove.append(i)"
      ],
      "metadata": {
        "id": "pjobZzPR8fc9"
      },
      "execution_count": 7,
      "outputs": []
    },
    {
      "cell_type": "code",
      "source": [
        "columns_to_remove"
      ],
      "metadata": {
        "colab": {
          "base_uri": "https://localhost:8080/"
        },
        "id": "WFEb4uyl9UZ3",
        "outputId": "765f5d58-2b5d-44f4-f41a-8a4c3edc14fb"
      },
      "execution_count": 8,
      "outputs": [
        {
          "output_type": "execute_result",
          "data": {
            "text/plain": [
              "['time_since_first_deliquency',\n",
              " 'time_since_recent_deliquency',\n",
              " 'max_delinquency_level',\n",
              " 'max_deliq_6mts',\n",
              " 'max_deliq_12mts',\n",
              " 'CC_utilization',\n",
              " 'PL_utilization',\n",
              " 'max_unsec_exposure_inPct']"
            ]
          },
          "metadata": {},
          "execution_count": 8
        }
      ]
    },
    {
      "cell_type": "code",
      "source": [
        "df2 = df2.drop(columns_to_remove,axis=1)"
      ],
      "metadata": {
        "id": "SW12lc-h-9U6"
      },
      "execution_count": 9,
      "outputs": []
    },
    {
      "cell_type": "code",
      "source": [
        "for i in df2.columns:\n",
        "    df2 = df2.loc[ df2[i] != -99999 ]"
      ],
      "metadata": {
        "id": "q_qaS0BDAQNn"
      },
      "execution_count": 18,
      "outputs": []
    },
    {
      "cell_type": "code",
      "source": [
        "for i in df1.columns:\n",
        "  if i in df2.columns:\n",
        "    print(i)"
      ],
      "metadata": {
        "colab": {
          "base_uri": "https://localhost:8080/"
        },
        "id": "MGX_2ceMBkTE",
        "outputId": "cbee1bbd-afdd-49bd-de6b-325b473ab9ac"
      },
      "execution_count": 11,
      "outputs": [
        {
          "output_type": "stream",
          "name": "stdout",
          "text": [
            "PROSPECTID\n"
          ]
        }
      ]
    },
    {
      "cell_type": "code",
      "source": [
        "df = pd.merge(df1,df2,how='inner',left_on='PROSPECTID',right_on='PROSPECTID')"
      ],
      "metadata": {
        "id": "YpMoVEnqBueO"
      },
      "execution_count": 12,
      "outputs": []
    },
    {
      "cell_type": "code",
      "source": [
        "df.sample(10)"
      ],
      "metadata": {
        "colab": {
          "base_uri": "https://localhost:8080/",
          "height": 412
        },
        "id": "ImTgEvIVCG8s",
        "outputId": "84998240-0fba-43d2-ed7c-22213d60e419"
      },
      "execution_count": 19,
      "outputs": [
        {
          "output_type": "execute_result",
          "data": {
            "text/plain": [
              "       PROSPECTID  Total_TL  Tot_Closed_TL  Tot_Active_TL  \\\n",
              "34313       41886         2              0              2   \n",
              "23592       28823         2              2              0   \n",
              "19113       23339         2              1              1   \n",
              "17678       21582         9              6              3   \n",
              "40482       49404         2              0              2   \n",
              "22261       27214         2              0              2   \n",
              "19047       23250         6              4              2   \n",
              "3234         3898         1              0              1   \n",
              "40904       49916         1              0              1   \n",
              "22116       27033         1              0              1   \n",
              "\n",
              "       Total_TL_opened_L6M  Tot_TL_closed_L6M  pct_tl_open_L6M  \\\n",
              "34313                    1                  0            0.500   \n",
              "23592                    0                  0            0.000   \n",
              "19113                    0                  0            0.000   \n",
              "17678                    1                  1            0.111   \n",
              "40482                    2                  0            1.000   \n",
              "22261                    1                  0            0.500   \n",
              "19047                    1                  0            0.167   \n",
              "3234                     0                  0            0.000   \n",
              "40904                    0                  0            0.000   \n",
              "22116                    0                  0            0.000   \n",
              "\n",
              "       pct_tl_closed_L6M  pct_active_tl  pct_closed_tl  ...  \\\n",
              "34313              0.000          1.000          0.000  ...   \n",
              "23592              0.000          0.000          1.000  ...   \n",
              "19113              0.000          0.500          0.500  ...   \n",
              "17678              0.111          0.333          0.667  ...   \n",
              "40482              0.000          1.000          0.000  ...   \n",
              "22261              0.000          1.000          0.000  ...   \n",
              "19047              0.000          0.333          0.667  ...   \n",
              "3234               0.000          1.000          0.000  ...   \n",
              "40904              0.000          1.000          0.000  ...   \n",
              "22116              0.000          1.000          0.000  ...   \n",
              "\n",
              "       pct_PL_enq_L6m_of_L12m  pct_CC_enq_L6m_of_L12m  pct_PL_enq_L6m_of_ever  \\\n",
              "34313                     0.0                     0.0                     0.0   \n",
              "23592                     0.0                     0.0                     0.0   \n",
              "19113                     1.0                     0.0                     1.0   \n",
              "17678                     0.0                     0.0                     0.0   \n",
              "40482                     1.0                     0.0                     1.0   \n",
              "22261                     0.0                     0.0                     0.0   \n",
              "19047                     1.0                     0.0                     1.0   \n",
              "3234                      0.0                     0.0                     0.0   \n",
              "40904                     0.0                     0.0                     0.0   \n",
              "22116                     0.0                     0.0                     0.0   \n",
              "\n",
              "       pct_CC_enq_L6m_of_ever  HL_Flag  GL_Flag  last_prod_enq2  \\\n",
              "34313                     0.0        0        0    ConsumerLoan   \n",
              "23592                     0.0        1        0    ConsumerLoan   \n",
              "19113                     0.0        0        0              PL   \n",
              "17678                     0.0        1        0          others   \n",
              "40482                     0.0        0        0    ConsumerLoan   \n",
              "22261                     0.0        1        0          others   \n",
              "19047                     0.0        1        0    ConsumerLoan   \n",
              "3234                      0.0        0        0    ConsumerLoan   \n",
              "40904                     0.0        0        0          others   \n",
              "22116                     0.0        0        0          others   \n",
              "\n",
              "       first_prod_enq2  Credit_Score  Approved_Flag  \n",
              "34313     ConsumerLoan           607             P4  \n",
              "23592     ConsumerLoan           676             P2  \n",
              "19113               PL           680             P2  \n",
              "17678     ConsumerLoan           694             P2  \n",
              "40482     ConsumerLoan           631             P4  \n",
              "22261           others           667             P3  \n",
              "19047           others           676             P2  \n",
              "3234            others           679             P2  \n",
              "40904           others           677             P2  \n",
              "22116           others           709             P1  \n",
              "\n",
              "[10 rows x 79 columns]"
            ],
            "text/html": [
              "\n",
              "  <div id=\"df-88af3680-d5d6-4223-8942-6ddd93f75984\" class=\"colab-df-container\">\n",
              "    <div>\n",
              "<style scoped>\n",
              "    .dataframe tbody tr th:only-of-type {\n",
              "        vertical-align: middle;\n",
              "    }\n",
              "\n",
              "    .dataframe tbody tr th {\n",
              "        vertical-align: top;\n",
              "    }\n",
              "\n",
              "    .dataframe thead th {\n",
              "        text-align: right;\n",
              "    }\n",
              "</style>\n",
              "<table border=\"1\" class=\"dataframe\">\n",
              "  <thead>\n",
              "    <tr style=\"text-align: right;\">\n",
              "      <th></th>\n",
              "      <th>PROSPECTID</th>\n",
              "      <th>Total_TL</th>\n",
              "      <th>Tot_Closed_TL</th>\n",
              "      <th>Tot_Active_TL</th>\n",
              "      <th>Total_TL_opened_L6M</th>\n",
              "      <th>Tot_TL_closed_L6M</th>\n",
              "      <th>pct_tl_open_L6M</th>\n",
              "      <th>pct_tl_closed_L6M</th>\n",
              "      <th>pct_active_tl</th>\n",
              "      <th>pct_closed_tl</th>\n",
              "      <th>...</th>\n",
              "      <th>pct_PL_enq_L6m_of_L12m</th>\n",
              "      <th>pct_CC_enq_L6m_of_L12m</th>\n",
              "      <th>pct_PL_enq_L6m_of_ever</th>\n",
              "      <th>pct_CC_enq_L6m_of_ever</th>\n",
              "      <th>HL_Flag</th>\n",
              "      <th>GL_Flag</th>\n",
              "      <th>last_prod_enq2</th>\n",
              "      <th>first_prod_enq2</th>\n",
              "      <th>Credit_Score</th>\n",
              "      <th>Approved_Flag</th>\n",
              "    </tr>\n",
              "  </thead>\n",
              "  <tbody>\n",
              "    <tr>\n",
              "      <th>34313</th>\n",
              "      <td>41886</td>\n",
              "      <td>2</td>\n",
              "      <td>0</td>\n",
              "      <td>2</td>\n",
              "      <td>1</td>\n",
              "      <td>0</td>\n",
              "      <td>0.500</td>\n",
              "      <td>0.000</td>\n",
              "      <td>1.000</td>\n",
              "      <td>0.000</td>\n",
              "      <td>...</td>\n",
              "      <td>0.0</td>\n",
              "      <td>0.0</td>\n",
              "      <td>0.0</td>\n",
              "      <td>0.0</td>\n",
              "      <td>0</td>\n",
              "      <td>0</td>\n",
              "      <td>ConsumerLoan</td>\n",
              "      <td>ConsumerLoan</td>\n",
              "      <td>607</td>\n",
              "      <td>P4</td>\n",
              "    </tr>\n",
              "    <tr>\n",
              "      <th>23592</th>\n",
              "      <td>28823</td>\n",
              "      <td>2</td>\n",
              "      <td>2</td>\n",
              "      <td>0</td>\n",
              "      <td>0</td>\n",
              "      <td>0</td>\n",
              "      <td>0.000</td>\n",
              "      <td>0.000</td>\n",
              "      <td>0.000</td>\n",
              "      <td>1.000</td>\n",
              "      <td>...</td>\n",
              "      <td>0.0</td>\n",
              "      <td>0.0</td>\n",
              "      <td>0.0</td>\n",
              "      <td>0.0</td>\n",
              "      <td>1</td>\n",
              "      <td>0</td>\n",
              "      <td>ConsumerLoan</td>\n",
              "      <td>ConsumerLoan</td>\n",
              "      <td>676</td>\n",
              "      <td>P2</td>\n",
              "    </tr>\n",
              "    <tr>\n",
              "      <th>19113</th>\n",
              "      <td>23339</td>\n",
              "      <td>2</td>\n",
              "      <td>1</td>\n",
              "      <td>1</td>\n",
              "      <td>0</td>\n",
              "      <td>0</td>\n",
              "      <td>0.000</td>\n",
              "      <td>0.000</td>\n",
              "      <td>0.500</td>\n",
              "      <td>0.500</td>\n",
              "      <td>...</td>\n",
              "      <td>1.0</td>\n",
              "      <td>0.0</td>\n",
              "      <td>1.0</td>\n",
              "      <td>0.0</td>\n",
              "      <td>0</td>\n",
              "      <td>0</td>\n",
              "      <td>PL</td>\n",
              "      <td>PL</td>\n",
              "      <td>680</td>\n",
              "      <td>P2</td>\n",
              "    </tr>\n",
              "    <tr>\n",
              "      <th>17678</th>\n",
              "      <td>21582</td>\n",
              "      <td>9</td>\n",
              "      <td>6</td>\n",
              "      <td>3</td>\n",
              "      <td>1</td>\n",
              "      <td>1</td>\n",
              "      <td>0.111</td>\n",
              "      <td>0.111</td>\n",
              "      <td>0.333</td>\n",
              "      <td>0.667</td>\n",
              "      <td>...</td>\n",
              "      <td>0.0</td>\n",
              "      <td>0.0</td>\n",
              "      <td>0.0</td>\n",
              "      <td>0.0</td>\n",
              "      <td>1</td>\n",
              "      <td>0</td>\n",
              "      <td>others</td>\n",
              "      <td>ConsumerLoan</td>\n",
              "      <td>694</td>\n",
              "      <td>P2</td>\n",
              "    </tr>\n",
              "    <tr>\n",
              "      <th>40482</th>\n",
              "      <td>49404</td>\n",
              "      <td>2</td>\n",
              "      <td>0</td>\n",
              "      <td>2</td>\n",
              "      <td>2</td>\n",
              "      <td>0</td>\n",
              "      <td>1.000</td>\n",
              "      <td>0.000</td>\n",
              "      <td>1.000</td>\n",
              "      <td>0.000</td>\n",
              "      <td>...</td>\n",
              "      <td>1.0</td>\n",
              "      <td>0.0</td>\n",
              "      <td>1.0</td>\n",
              "      <td>0.0</td>\n",
              "      <td>0</td>\n",
              "      <td>0</td>\n",
              "      <td>ConsumerLoan</td>\n",
              "      <td>ConsumerLoan</td>\n",
              "      <td>631</td>\n",
              "      <td>P4</td>\n",
              "    </tr>\n",
              "    <tr>\n",
              "      <th>22261</th>\n",
              "      <td>27214</td>\n",
              "      <td>2</td>\n",
              "      <td>0</td>\n",
              "      <td>2</td>\n",
              "      <td>1</td>\n",
              "      <td>0</td>\n",
              "      <td>0.500</td>\n",
              "      <td>0.000</td>\n",
              "      <td>1.000</td>\n",
              "      <td>0.000</td>\n",
              "      <td>...</td>\n",
              "      <td>0.0</td>\n",
              "      <td>0.0</td>\n",
              "      <td>0.0</td>\n",
              "      <td>0.0</td>\n",
              "      <td>1</td>\n",
              "      <td>0</td>\n",
              "      <td>others</td>\n",
              "      <td>others</td>\n",
              "      <td>667</td>\n",
              "      <td>P3</td>\n",
              "    </tr>\n",
              "    <tr>\n",
              "      <th>19047</th>\n",
              "      <td>23250</td>\n",
              "      <td>6</td>\n",
              "      <td>4</td>\n",
              "      <td>2</td>\n",
              "      <td>1</td>\n",
              "      <td>0</td>\n",
              "      <td>0.167</td>\n",
              "      <td>0.000</td>\n",
              "      <td>0.333</td>\n",
              "      <td>0.667</td>\n",
              "      <td>...</td>\n",
              "      <td>1.0</td>\n",
              "      <td>0.0</td>\n",
              "      <td>1.0</td>\n",
              "      <td>0.0</td>\n",
              "      <td>1</td>\n",
              "      <td>0</td>\n",
              "      <td>ConsumerLoan</td>\n",
              "      <td>others</td>\n",
              "      <td>676</td>\n",
              "      <td>P2</td>\n",
              "    </tr>\n",
              "    <tr>\n",
              "      <th>3234</th>\n",
              "      <td>3898</td>\n",
              "      <td>1</td>\n",
              "      <td>0</td>\n",
              "      <td>1</td>\n",
              "      <td>0</td>\n",
              "      <td>0</td>\n",
              "      <td>0.000</td>\n",
              "      <td>0.000</td>\n",
              "      <td>1.000</td>\n",
              "      <td>0.000</td>\n",
              "      <td>...</td>\n",
              "      <td>0.0</td>\n",
              "      <td>0.0</td>\n",
              "      <td>0.0</td>\n",
              "      <td>0.0</td>\n",
              "      <td>0</td>\n",
              "      <td>0</td>\n",
              "      <td>ConsumerLoan</td>\n",
              "      <td>others</td>\n",
              "      <td>679</td>\n",
              "      <td>P2</td>\n",
              "    </tr>\n",
              "    <tr>\n",
              "      <th>40904</th>\n",
              "      <td>49916</td>\n",
              "      <td>1</td>\n",
              "      <td>0</td>\n",
              "      <td>1</td>\n",
              "      <td>0</td>\n",
              "      <td>0</td>\n",
              "      <td>0.000</td>\n",
              "      <td>0.000</td>\n",
              "      <td>1.000</td>\n",
              "      <td>0.000</td>\n",
              "      <td>...</td>\n",
              "      <td>0.0</td>\n",
              "      <td>0.0</td>\n",
              "      <td>0.0</td>\n",
              "      <td>0.0</td>\n",
              "      <td>0</td>\n",
              "      <td>0</td>\n",
              "      <td>others</td>\n",
              "      <td>others</td>\n",
              "      <td>677</td>\n",
              "      <td>P2</td>\n",
              "    </tr>\n",
              "    <tr>\n",
              "      <th>22116</th>\n",
              "      <td>27033</td>\n",
              "      <td>1</td>\n",
              "      <td>0</td>\n",
              "      <td>1</td>\n",
              "      <td>0</td>\n",
              "      <td>0</td>\n",
              "      <td>0.000</td>\n",
              "      <td>0.000</td>\n",
              "      <td>1.000</td>\n",
              "      <td>0.000</td>\n",
              "      <td>...</td>\n",
              "      <td>0.0</td>\n",
              "      <td>0.0</td>\n",
              "      <td>0.0</td>\n",
              "      <td>0.0</td>\n",
              "      <td>0</td>\n",
              "      <td>0</td>\n",
              "      <td>others</td>\n",
              "      <td>others</td>\n",
              "      <td>709</td>\n",
              "      <td>P1</td>\n",
              "    </tr>\n",
              "  </tbody>\n",
              "</table>\n",
              "<p>10 rows × 79 columns</p>\n",
              "</div>\n",
              "    <div class=\"colab-df-buttons\">\n",
              "\n",
              "  <div class=\"colab-df-container\">\n",
              "    <button class=\"colab-df-convert\" onclick=\"convertToInteractive('df-88af3680-d5d6-4223-8942-6ddd93f75984')\"\n",
              "            title=\"Convert this dataframe to an interactive table.\"\n",
              "            style=\"display:none;\">\n",
              "\n",
              "  <svg xmlns=\"http://www.w3.org/2000/svg\" height=\"24px\" viewBox=\"0 -960 960 960\">\n",
              "    <path d=\"M120-120v-720h720v720H120Zm60-500h600v-160H180v160Zm220 220h160v-160H400v160Zm0 220h160v-160H400v160ZM180-400h160v-160H180v160Zm440 0h160v-160H620v160ZM180-180h160v-160H180v160Zm440 0h160v-160H620v160Z\"/>\n",
              "  </svg>\n",
              "    </button>\n",
              "\n",
              "  <style>\n",
              "    .colab-df-container {\n",
              "      display:flex;\n",
              "      gap: 12px;\n",
              "    }\n",
              "\n",
              "    .colab-df-convert {\n",
              "      background-color: #E8F0FE;\n",
              "      border: none;\n",
              "      border-radius: 50%;\n",
              "      cursor: pointer;\n",
              "      display: none;\n",
              "      fill: #1967D2;\n",
              "      height: 32px;\n",
              "      padding: 0 0 0 0;\n",
              "      width: 32px;\n",
              "    }\n",
              "\n",
              "    .colab-df-convert:hover {\n",
              "      background-color: #E2EBFA;\n",
              "      box-shadow: 0px 1px 2px rgba(60, 64, 67, 0.3), 0px 1px 3px 1px rgba(60, 64, 67, 0.15);\n",
              "      fill: #174EA6;\n",
              "    }\n",
              "\n",
              "    .colab-df-buttons div {\n",
              "      margin-bottom: 4px;\n",
              "    }\n",
              "\n",
              "    [theme=dark] .colab-df-convert {\n",
              "      background-color: #3B4455;\n",
              "      fill: #D2E3FC;\n",
              "    }\n",
              "\n",
              "    [theme=dark] .colab-df-convert:hover {\n",
              "      background-color: #434B5C;\n",
              "      box-shadow: 0px 1px 3px 1px rgba(0, 0, 0, 0.15);\n",
              "      filter: drop-shadow(0px 1px 2px rgba(0, 0, 0, 0.3));\n",
              "      fill: #FFFFFF;\n",
              "    }\n",
              "  </style>\n",
              "\n",
              "    <script>\n",
              "      const buttonEl =\n",
              "        document.querySelector('#df-88af3680-d5d6-4223-8942-6ddd93f75984 button.colab-df-convert');\n",
              "      buttonEl.style.display =\n",
              "        google.colab.kernel.accessAllowed ? 'block' : 'none';\n",
              "\n",
              "      async function convertToInteractive(key) {\n",
              "        const element = document.querySelector('#df-88af3680-d5d6-4223-8942-6ddd93f75984');\n",
              "        const dataTable =\n",
              "          await google.colab.kernel.invokeFunction('convertToInteractive',\n",
              "                                                    [key], {});\n",
              "        if (!dataTable) return;\n",
              "\n",
              "        const docLinkHtml = 'Like what you see? Visit the ' +\n",
              "          '<a target=\"_blank\" href=https://colab.research.google.com/notebooks/data_table.ipynb>data table notebook</a>'\n",
              "          + ' to learn more about interactive tables.';\n",
              "        element.innerHTML = '';\n",
              "        dataTable['output_type'] = 'display_data';\n",
              "        await google.colab.output.renderOutput(dataTable, element);\n",
              "        const docLink = document.createElement('div');\n",
              "        docLink.innerHTML = docLinkHtml;\n",
              "        element.appendChild(docLink);\n",
              "      }\n",
              "    </script>\n",
              "  </div>\n",
              "\n",
              "\n",
              "<div id=\"df-450fe9b7-b75d-4130-a236-42656cbf0a4a\">\n",
              "  <button class=\"colab-df-quickchart\" onclick=\"quickchart('df-450fe9b7-b75d-4130-a236-42656cbf0a4a')\"\n",
              "            title=\"Suggest charts\"\n",
              "            style=\"display:none;\">\n",
              "\n",
              "<svg xmlns=\"http://www.w3.org/2000/svg\" height=\"24px\"viewBox=\"0 0 24 24\"\n",
              "     width=\"24px\">\n",
              "    <g>\n",
              "        <path d=\"M19 3H5c-1.1 0-2 .9-2 2v14c0 1.1.9 2 2 2h14c1.1 0 2-.9 2-2V5c0-1.1-.9-2-2-2zM9 17H7v-7h2v7zm4 0h-2V7h2v10zm4 0h-2v-4h2v4z\"/>\n",
              "    </g>\n",
              "</svg>\n",
              "  </button>\n",
              "\n",
              "<style>\n",
              "  .colab-df-quickchart {\n",
              "      --bg-color: #E8F0FE;\n",
              "      --fill-color: #1967D2;\n",
              "      --hover-bg-color: #E2EBFA;\n",
              "      --hover-fill-color: #174EA6;\n",
              "      --disabled-fill-color: #AAA;\n",
              "      --disabled-bg-color: #DDD;\n",
              "  }\n",
              "\n",
              "  [theme=dark] .colab-df-quickchart {\n",
              "      --bg-color: #3B4455;\n",
              "      --fill-color: #D2E3FC;\n",
              "      --hover-bg-color: #434B5C;\n",
              "      --hover-fill-color: #FFFFFF;\n",
              "      --disabled-bg-color: #3B4455;\n",
              "      --disabled-fill-color: #666;\n",
              "  }\n",
              "\n",
              "  .colab-df-quickchart {\n",
              "    background-color: var(--bg-color);\n",
              "    border: none;\n",
              "    border-radius: 50%;\n",
              "    cursor: pointer;\n",
              "    display: none;\n",
              "    fill: var(--fill-color);\n",
              "    height: 32px;\n",
              "    padding: 0;\n",
              "    width: 32px;\n",
              "  }\n",
              "\n",
              "  .colab-df-quickchart:hover {\n",
              "    background-color: var(--hover-bg-color);\n",
              "    box-shadow: 0 1px 2px rgba(60, 64, 67, 0.3), 0 1px 3px 1px rgba(60, 64, 67, 0.15);\n",
              "    fill: var(--button-hover-fill-color);\n",
              "  }\n",
              "\n",
              "  .colab-df-quickchart-complete:disabled,\n",
              "  .colab-df-quickchart-complete:disabled:hover {\n",
              "    background-color: var(--disabled-bg-color);\n",
              "    fill: var(--disabled-fill-color);\n",
              "    box-shadow: none;\n",
              "  }\n",
              "\n",
              "  .colab-df-spinner {\n",
              "    border: 2px solid var(--fill-color);\n",
              "    border-color: transparent;\n",
              "    border-bottom-color: var(--fill-color);\n",
              "    animation:\n",
              "      spin 1s steps(1) infinite;\n",
              "  }\n",
              "\n",
              "  @keyframes spin {\n",
              "    0% {\n",
              "      border-color: transparent;\n",
              "      border-bottom-color: var(--fill-color);\n",
              "      border-left-color: var(--fill-color);\n",
              "    }\n",
              "    20% {\n",
              "      border-color: transparent;\n",
              "      border-left-color: var(--fill-color);\n",
              "      border-top-color: var(--fill-color);\n",
              "    }\n",
              "    30% {\n",
              "      border-color: transparent;\n",
              "      border-left-color: var(--fill-color);\n",
              "      border-top-color: var(--fill-color);\n",
              "      border-right-color: var(--fill-color);\n",
              "    }\n",
              "    40% {\n",
              "      border-color: transparent;\n",
              "      border-right-color: var(--fill-color);\n",
              "      border-top-color: var(--fill-color);\n",
              "    }\n",
              "    60% {\n",
              "      border-color: transparent;\n",
              "      border-right-color: var(--fill-color);\n",
              "    }\n",
              "    80% {\n",
              "      border-color: transparent;\n",
              "      border-right-color: var(--fill-color);\n",
              "      border-bottom-color: var(--fill-color);\n",
              "    }\n",
              "    90% {\n",
              "      border-color: transparent;\n",
              "      border-bottom-color: var(--fill-color);\n",
              "    }\n",
              "  }\n",
              "</style>\n",
              "\n",
              "  <script>\n",
              "    async function quickchart(key) {\n",
              "      const quickchartButtonEl =\n",
              "        document.querySelector('#' + key + ' button');\n",
              "      quickchartButtonEl.disabled = true;  // To prevent multiple clicks.\n",
              "      quickchartButtonEl.classList.add('colab-df-spinner');\n",
              "      try {\n",
              "        const charts = await google.colab.kernel.invokeFunction(\n",
              "            'suggestCharts', [key], {});\n",
              "      } catch (error) {\n",
              "        console.error('Error during call to suggestCharts:', error);\n",
              "      }\n",
              "      quickchartButtonEl.classList.remove('colab-df-spinner');\n",
              "      quickchartButtonEl.classList.add('colab-df-quickchart-complete');\n",
              "    }\n",
              "    (() => {\n",
              "      let quickchartButtonEl =\n",
              "        document.querySelector('#df-450fe9b7-b75d-4130-a236-42656cbf0a4a button');\n",
              "      quickchartButtonEl.style.display =\n",
              "        google.colab.kernel.accessAllowed ? 'block' : 'none';\n",
              "    })();\n",
              "  </script>\n",
              "</div>\n",
              "\n",
              "    </div>\n",
              "  </div>\n"
            ],
            "application/vnd.google.colaboratory.intrinsic+json": {
              "type": "dataframe"
            }
          },
          "metadata": {},
          "execution_count": 19
        }
      ]
    },
    {
      "cell_type": "code",
      "source": [
        "df.shape"
      ],
      "metadata": {
        "colab": {
          "base_uri": "https://localhost:8080/"
        },
        "id": "ICqoK7-qCJc5",
        "outputId": "146232a6-de5b-43c3-fd0f-7b35261aad00"
      },
      "execution_count": 20,
      "outputs": [
        {
          "output_type": "execute_result",
          "data": {
            "text/plain": [
              "(42064, 79)"
            ]
          },
          "metadata": {},
          "execution_count": 20
        }
      ]
    },
    {
      "cell_type": "code",
      "source": [
        "cat_col =[]\n",
        "for i in df.columns:\n",
        "  if df[i].dtypes == object:\n",
        "    cat_col.append(i)\n",
        "cat_col"
      ],
      "metadata": {
        "colab": {
          "base_uri": "https://localhost:8080/"
        },
        "id": "EEYr_9u3C4rG",
        "outputId": "b2297788-86b9-454b-bf22-4232bc0b2afd"
      },
      "execution_count": 21,
      "outputs": [
        {
          "output_type": "execute_result",
          "data": {
            "text/plain": [
              "['MARITALSTATUS',\n",
              " 'EDUCATION',\n",
              " 'GENDER',\n",
              " 'last_prod_enq2',\n",
              " 'first_prod_enq2',\n",
              " 'Approved_Flag']"
            ]
          },
          "metadata": {},
          "execution_count": 21
        }
      ]
    },
    {
      "cell_type": "markdown",
      "source": [
        "**Chi-square test**\n"
      ],
      "metadata": {
        "id": "fJG_nlN7gKNg"
      }
    },
    {
      "cell_type": "code",
      "source": [
        "for i in ['MARITALSTATUS', 'EDUCATION', 'GENDER', 'last_prod_enq2', 'first_prod_enq2']:\n",
        "    chi2, pval, u, l = chi2_contingency(pd.crosstab(df[i], df['Approved_Flag']))\n",
        "    print(i, '---', pval)"
      ],
      "metadata": {
        "colab": {
          "base_uri": "https://localhost:8080/"
        },
        "id": "hWuecQY5Nrp6",
        "outputId": "384d7b32-c285-41c2-e5dd-546da8e52cec"
      },
      "execution_count": 22,
      "outputs": [
        {
          "output_type": "stream",
          "name": "stdout",
          "text": [
            "MARITALSTATUS --- 3.578180861038862e-233\n",
            "EDUCATION --- 2.6942265249737532e-30\n",
            "GENDER --- 1.907936100186563e-05\n",
            "last_prod_enq2 --- 0.0\n",
            "first_prod_enq2 --- 7.84997610555419e-287\n"
          ]
        }
      ]
    },
    {
      "cell_type": "code",
      "source": [
        "numeric_columns = []\n",
        "for i in df.columns :\n",
        "  if df[i].dtypes != object and i not in ['PROSPECTID','Approved_Flag']:\n",
        "    numeric_columns.append(i)\n",
        "len(numeric_columns)"
      ],
      "metadata": {
        "colab": {
          "base_uri": "https://localhost:8080/"
        },
        "id": "dwzoNqRzN_9J",
        "outputId": "b7aba768-9877-4951-d361-1e1052b93be0"
      },
      "execution_count": 23,
      "outputs": [
        {
          "output_type": "execute_result",
          "data": {
            "text/plain": [
              "72"
            ]
          },
          "metadata": {},
          "execution_count": 23
        }
      ]
    },
    {
      "cell_type": "markdown",
      "source": [
        "**VIF sequentially check**\n"
      ],
      "metadata": {
        "id": "SWTOhlbjgP6Z"
      }
    },
    {
      "cell_type": "code",
      "source": [
        "vif_data = df[numeric_columns]\n",
        "total_columns = vif_data.shape[1]\n",
        "columns_to_be_kept = []\n",
        "column_index = 0\n",
        "\n",
        "\n",
        "for i in range (0,total_columns):\n",
        "\n",
        "    vif_value = variance_inflation_factor(vif_data, column_index)\n",
        "    print (column_index,'---',vif_value)\n",
        "\n",
        "\n",
        "    if vif_value <= 6:\n",
        "        columns_to_be_kept.append( numeric_columns[i] )\n",
        "        column_index = column_index+1\n",
        "\n",
        "    else:\n",
        "        vif_data = vif_data.drop([ numeric_columns[i] ] , axis=1)"
      ],
      "metadata": {
        "id": "pggp8Npe9i56",
        "colab": {
          "base_uri": "https://localhost:8080/"
        },
        "collapsed": true,
        "outputId": "8fa39905-8446-472c-cd40-138686d0864c"
      },
      "execution_count": 24,
      "outputs": [
        {
          "output_type": "stream",
          "name": "stderr",
          "text": [
            "/usr/local/lib/python3.10/dist-packages/statsmodels/stats/outliers_influence.py:197: RuntimeWarning: divide by zero encountered in scalar divide\n",
            "  vif = 1. / (1. - r_squared_i)\n"
          ]
        },
        {
          "output_type": "stream",
          "name": "stdout",
          "text": [
            "0 --- inf\n"
          ]
        },
        {
          "output_type": "stream",
          "name": "stderr",
          "text": [
            "/usr/local/lib/python3.10/dist-packages/statsmodels/stats/outliers_influence.py:197: RuntimeWarning: divide by zero encountered in scalar divide\n",
            "  vif = 1. / (1. - r_squared_i)\n"
          ]
        },
        {
          "output_type": "stream",
          "name": "stdout",
          "text": [
            "0 --- inf\n",
            "0 --- 11.320180023967996\n",
            "0 --- 8.363698035000336\n",
            "0 --- 6.520647877790928\n",
            "0 --- 5.149501618212625\n",
            "1 --- 2.611111040579735\n"
          ]
        },
        {
          "output_type": "stream",
          "name": "stderr",
          "text": [
            "/usr/local/lib/python3.10/dist-packages/statsmodels/stats/outliers_influence.py:197: RuntimeWarning: divide by zero encountered in scalar divide\n",
            "  vif = 1. / (1. - r_squared_i)\n"
          ]
        },
        {
          "output_type": "stream",
          "name": "stdout",
          "text": [
            "2 --- inf\n",
            "2 --- 1788.7926256209232\n",
            "2 --- 8.601028256477228\n",
            "2 --- 3.832800792153077\n",
            "3 --- 6.099653381646723\n",
            "3 --- 5.581352009642766\n",
            "4 --- 1.985584353098778\n"
          ]
        },
        {
          "output_type": "stream",
          "name": "stderr",
          "text": [
            "/usr/local/lib/python3.10/dist-packages/statsmodels/stats/outliers_influence.py:197: RuntimeWarning: divide by zero encountered in scalar divide\n",
            "  vif = 1. / (1. - r_squared_i)\n"
          ]
        },
        {
          "output_type": "stream",
          "name": "stdout",
          "text": [
            "5 --- inf\n",
            "5 --- 4.80953830281934\n",
            "6 --- 23.270628983464636\n",
            "6 --- 30.595522588100053\n",
            "6 --- 4.384346405965583\n",
            "7 --- 3.0646584155234238\n",
            "8 --- 2.898639771299251\n",
            "9 --- 4.377876915347324\n",
            "10 --- 2.207853583695844\n",
            "11 --- 4.916914200506864\n",
            "12 --- 5.214702030064725\n",
            "13 --- 3.3861625024231476\n",
            "14 --- 7.840583309478997\n",
            "14 --- 5.255034641721434\n"
          ]
        },
        {
          "output_type": "stream",
          "name": "stderr",
          "text": [
            "/usr/local/lib/python3.10/dist-packages/statsmodels/stats/outliers_influence.py:197: RuntimeWarning: divide by zero encountered in scalar divide\n",
            "  vif = 1. / (1. - r_squared_i)\n"
          ]
        },
        {
          "output_type": "stream",
          "name": "stdout",
          "text": [
            "15 --- inf\n",
            "15 --- 7.380634506427238\n",
            "15 --- 1.4210050015175733\n",
            "16 --- 8.083255010190316\n",
            "16 --- 1.6241227524040114\n",
            "17 --- 7.257811920140003\n",
            "17 --- 15.59624383268298\n",
            "17 --- 1.825857047132431\n",
            "18 --- 1.5080839450032664\n",
            "19 --- 2.172088834824578\n",
            "20 --- 2.6233975535272274\n",
            "21 --- 2.2959970812106176\n",
            "22 --- 7.360578319196446\n",
            "22 --- 2.1602387773102567\n",
            "23 --- 2.8686288267891467\n",
            "24 --- 6.458218003637272\n",
            "24 --- 2.8474118865638247\n",
            "25 --- 4.753198156284083\n",
            "26 --- 16.22735475594825\n",
            "26 --- 6.424377256363877\n",
            "26 --- 8.887080381808678\n",
            "26 --- 2.3804746142952653\n",
            "27 --- 8.60951347651454\n",
            "27 --- 13.06755093547673\n",
            "27 --- 3.500040056654653\n",
            "28 --- 1.9087955874813773\n",
            "29 --- 17.006562234161628\n",
            "29 --- 10.730485153719197\n",
            "29 --- 2.3538497522950275\n",
            "30 --- 22.10485591513649\n",
            "30 --- 2.7971639638512924\n",
            "31 --- 3.424171203217696\n",
            "32 --- 10.175021454450922\n",
            "32 --- 6.408710354561292\n",
            "32 --- 1.001151196262563\n",
            "33 --- 3.069197305397273\n",
            "34 --- 2.8091261600643724\n",
            "35 --- 20.249538381980678\n",
            "35 --- 15.864576541593774\n",
            "35 --- 1.833164974053215\n",
            "36 --- 1.5680839909542046\n",
            "37 --- 1.9307572353811682\n",
            "38 --- 4.331265056645244\n",
            "39 --- 9.390334396150173\n"
          ]
        }
      ]
    },
    {
      "cell_type": "code",
      "source": [
        "len(columns_to_be_kept)"
      ],
      "metadata": {
        "colab": {
          "base_uri": "https://localhost:8080/"
        },
        "id": "mkBePzE9qF5D",
        "outputId": "098b525e-8d6b-48b2-fba4-12638e6666d5"
      },
      "execution_count": 25,
      "outputs": [
        {
          "output_type": "execute_result",
          "data": {
            "text/plain": [
              "39"
            ]
          },
          "metadata": {},
          "execution_count": 25
        }
      ]
    },
    {
      "cell_type": "markdown",
      "source": [
        "**Check Anova for columns_to_be_kept**\n",
        "\n"
      ],
      "metadata": {
        "id": "jf4igcPzgWgU"
      }
    },
    {
      "cell_type": "code",
      "source": [
        "from scipy.stats import f_oneway\n",
        "\n",
        "columns_to_be_kept_numerical = []\n",
        "\n",
        "for i in columns_to_be_kept:\n",
        "    a = list(df[i])\n",
        "    b = list(df['Approved_Flag'])\n",
        "\n",
        "    group_P1 = [value for value, group in zip(a, b) if group == 'P1']\n",
        "    group_P2 = [value for value, group in zip(a, b) if group == 'P2']\n",
        "    group_P3 = [value for value, group in zip(a, b) if group == 'P3']\n",
        "    group_P4 = [value for value, group in zip(a, b) if group == 'P4']\n",
        "\n",
        "\n",
        "    f_statistic, p_value = f_oneway(group_P1, group_P2, group_P3, group_P4)\n",
        "\n",
        "    if p_value <= 0.05:\n",
        "        columns_to_be_kept_numerical.append(i)"
      ],
      "metadata": {
        "id": "fTzURFFkqfGE"
      },
      "execution_count": 26,
      "outputs": []
    },
    {
      "cell_type": "code",
      "source": [
        "len(columns_to_be_kept_numerical)"
      ],
      "metadata": {
        "colab": {
          "base_uri": "https://localhost:8080/"
        },
        "id": "WiOhuNFsyJQv",
        "outputId": "8b088de7-d39a-486e-d1e0-baad457db278"
      },
      "execution_count": 27,
      "outputs": [
        {
          "output_type": "execute_result",
          "data": {
            "text/plain": [
              "37"
            ]
          },
          "metadata": {},
          "execution_count": 27
        }
      ]
    },
    {
      "cell_type": "code",
      "source": [
        "cat_col"
      ],
      "metadata": {
        "colab": {
          "base_uri": "https://localhost:8080/"
        },
        "id": "O3vtl3aAyMe6",
        "outputId": "b2546145-10d7-4615-a3ef-098180ce134d"
      },
      "execution_count": 28,
      "outputs": [
        {
          "output_type": "execute_result",
          "data": {
            "text/plain": [
              "['MARITALSTATUS',\n",
              " 'EDUCATION',\n",
              " 'GENDER',\n",
              " 'last_prod_enq2',\n",
              " 'first_prod_enq2',\n",
              " 'Approved_Flag']"
            ]
          },
          "metadata": {},
          "execution_count": 28
        }
      ]
    },
    {
      "cell_type": "code",
      "source": [
        "df.info()"
      ],
      "metadata": {
        "colab": {
          "base_uri": "https://localhost:8080/"
        },
        "id": "6pjuVKAhHoiw",
        "outputId": "dd41c79b-9d56-44c8-dc14-4b6812f8a732"
      },
      "execution_count": 29,
      "outputs": [
        {
          "output_type": "stream",
          "name": "stdout",
          "text": [
            "<class 'pandas.core.frame.DataFrame'>\n",
            "RangeIndex: 42064 entries, 0 to 42063\n",
            "Data columns (total 79 columns):\n",
            " #   Column                      Non-Null Count  Dtype  \n",
            "---  ------                      --------------  -----  \n",
            " 0   PROSPECTID                  42064 non-null  int64  \n",
            " 1   Total_TL                    42064 non-null  int64  \n",
            " 2   Tot_Closed_TL               42064 non-null  int64  \n",
            " 3   Tot_Active_TL               42064 non-null  int64  \n",
            " 4   Total_TL_opened_L6M         42064 non-null  int64  \n",
            " 5   Tot_TL_closed_L6M           42064 non-null  int64  \n",
            " 6   pct_tl_open_L6M             42064 non-null  float64\n",
            " 7   pct_tl_closed_L6M           42064 non-null  float64\n",
            " 8   pct_active_tl               42064 non-null  float64\n",
            " 9   pct_closed_tl               42064 non-null  float64\n",
            " 10  Total_TL_opened_L12M        42064 non-null  int64  \n",
            " 11  Tot_TL_closed_L12M          42064 non-null  int64  \n",
            " 12  pct_tl_open_L12M            42064 non-null  float64\n",
            " 13  pct_tl_closed_L12M          42064 non-null  float64\n",
            " 14  Tot_Missed_Pmnt             42064 non-null  int64  \n",
            " 15  Auto_TL                     42064 non-null  int64  \n",
            " 16  CC_TL                       42064 non-null  int64  \n",
            " 17  Consumer_TL                 42064 non-null  int64  \n",
            " 18  Gold_TL                     42064 non-null  int64  \n",
            " 19  Home_TL                     42064 non-null  int64  \n",
            " 20  PL_TL                       42064 non-null  int64  \n",
            " 21  Secured_TL                  42064 non-null  int64  \n",
            " 22  Unsecured_TL                42064 non-null  int64  \n",
            " 23  Other_TL                    42064 non-null  int64  \n",
            " 24  Age_Oldest_TL               42064 non-null  int64  \n",
            " 25  Age_Newest_TL               42064 non-null  int64  \n",
            " 26  time_since_recent_payment   42064 non-null  int64  \n",
            " 27  num_times_delinquent        42064 non-null  int64  \n",
            " 28  max_recent_level_of_deliq   42064 non-null  int64  \n",
            " 29  num_deliq_6mts              42064 non-null  int64  \n",
            " 30  num_deliq_12mts             42064 non-null  int64  \n",
            " 31  num_deliq_6_12mts           42064 non-null  int64  \n",
            " 32  num_times_30p_dpd           42064 non-null  int64  \n",
            " 33  num_times_60p_dpd           42064 non-null  int64  \n",
            " 34  num_std                     42064 non-null  int64  \n",
            " 35  num_std_6mts                42064 non-null  int64  \n",
            " 36  num_std_12mts               42064 non-null  int64  \n",
            " 37  num_sub                     42064 non-null  int64  \n",
            " 38  num_sub_6mts                42064 non-null  int64  \n",
            " 39  num_sub_12mts               42064 non-null  int64  \n",
            " 40  num_dbt                     42064 non-null  int64  \n",
            " 41  num_dbt_6mts                42064 non-null  int64  \n",
            " 42  num_dbt_12mts               42064 non-null  int64  \n",
            " 43  num_lss                     42064 non-null  int64  \n",
            " 44  num_lss_6mts                42064 non-null  int64  \n",
            " 45  num_lss_12mts               42064 non-null  int64  \n",
            " 46  recent_level_of_deliq       42064 non-null  int64  \n",
            " 47  tot_enq                     42064 non-null  int64  \n",
            " 48  CC_enq                      42064 non-null  int64  \n",
            " 49  CC_enq_L6m                  42064 non-null  int64  \n",
            " 50  CC_enq_L12m                 42064 non-null  int64  \n",
            " 51  PL_enq                      42064 non-null  int64  \n",
            " 52  PL_enq_L6m                  42064 non-null  int64  \n",
            " 53  PL_enq_L12m                 42064 non-null  int64  \n",
            " 54  time_since_recent_enq       42064 non-null  int64  \n",
            " 55  enq_L12m                    42064 non-null  int64  \n",
            " 56  enq_L6m                     42064 non-null  int64  \n",
            " 57  enq_L3m                     42064 non-null  int64  \n",
            " 58  MARITALSTATUS               42064 non-null  object \n",
            " 59  EDUCATION                   42064 non-null  object \n",
            " 60  AGE                         42064 non-null  int64  \n",
            " 61  GENDER                      42064 non-null  object \n",
            " 62  NETMONTHLYINCOME            42064 non-null  int64  \n",
            " 63  Time_With_Curr_Empr         42064 non-null  int64  \n",
            " 64  pct_of_active_TLs_ever      42064 non-null  float64\n",
            " 65  pct_opened_TLs_L6m_of_L12m  42064 non-null  float64\n",
            " 66  pct_currentBal_all_TL       42064 non-null  float64\n",
            " 67  CC_Flag                     42064 non-null  int64  \n",
            " 68  PL_Flag                     42064 non-null  int64  \n",
            " 69  pct_PL_enq_L6m_of_L12m      42064 non-null  float64\n",
            " 70  pct_CC_enq_L6m_of_L12m      42064 non-null  float64\n",
            " 71  pct_PL_enq_L6m_of_ever      42064 non-null  float64\n",
            " 72  pct_CC_enq_L6m_of_ever      42064 non-null  float64\n",
            " 73  HL_Flag                     42064 non-null  int64  \n",
            " 74  GL_Flag                     42064 non-null  int64  \n",
            " 75  last_prod_enq2              42064 non-null  object \n",
            " 76  first_prod_enq2             42064 non-null  object \n",
            " 77  Credit_Score                42064 non-null  int64  \n",
            " 78  Approved_Flag               42064 non-null  object \n",
            "dtypes: float64(13), int64(60), object(6)\n",
            "memory usage: 25.4+ MB\n"
          ]
        }
      ]
    },
    {
      "cell_type": "code",
      "source": [
        "df.loc[df['EDUCATION'] == 'SSC',['EDUCATION']]              = 1\n",
        "df.loc[df['EDUCATION'] == '12TH',['EDUCATION']]             = 2\n",
        "df.loc[df['EDUCATION'] == 'GRADUATE',['EDUCATION']]         = 3\n",
        "df.loc[df['EDUCATION'] == 'UNDER GRADUATE',['EDUCATION']]   = 3\n",
        "df.loc[df['EDUCATION'] == 'POST-GRADUATE',['EDUCATION']]    = 4\n",
        "df.loc[df['EDUCATION'] == 'OTHERS',['EDUCATION']]           = 1\n",
        "df.loc[df['EDUCATION'] == 'PROFESSIONAL',['EDUCATION']]     = 3\n",
        "\n",
        "df['EDUCATION'].value_counts()"
      ],
      "metadata": {
        "colab": {
          "base_uri": "https://localhost:8080/"
        },
        "id": "NKKcMU83XuUi",
        "outputId": "8ac8d4a7-5646-4769-b820-04235f72d434"
      },
      "execution_count": 30,
      "outputs": [
        {
          "output_type": "execute_result",
          "data": {
            "text/plain": [
              "EDUCATION\n",
              "3    18931\n",
              "2    11703\n",
              "1     9532\n",
              "4     1898\n",
              "Name: count, dtype: int64"
            ]
          },
          "metadata": {},
          "execution_count": 30
        }
      ]
    },
    {
      "cell_type": "code",
      "source": [
        "df = pd.get_dummies(df, columns=['MARITALSTATUS','GENDER', 'last_prod_enq2' ,'first_prod_enq2'])"
      ],
      "metadata": {
        "id": "8zCXeOZ7X02U"
      },
      "execution_count": 31,
      "outputs": []
    },
    {
      "cell_type": "code",
      "source": [
        "df.info()"
      ],
      "metadata": {
        "id": "btQ6LT9GIVKo",
        "colab": {
          "base_uri": "https://localhost:8080/"
        },
        "collapsed": true,
        "outputId": "e8657302-4778-40cf-f928-378fcbac40ae"
      },
      "execution_count": 32,
      "outputs": [
        {
          "output_type": "stream",
          "name": "stdout",
          "text": [
            "<class 'pandas.core.frame.DataFrame'>\n",
            "RangeIndex: 42064 entries, 0 to 42063\n",
            "Data columns (total 91 columns):\n",
            " #   Column                        Non-Null Count  Dtype  \n",
            "---  ------                        --------------  -----  \n",
            " 0   PROSPECTID                    42064 non-null  int64  \n",
            " 1   Total_TL                      42064 non-null  int64  \n",
            " 2   Tot_Closed_TL                 42064 non-null  int64  \n",
            " 3   Tot_Active_TL                 42064 non-null  int64  \n",
            " 4   Total_TL_opened_L6M           42064 non-null  int64  \n",
            " 5   Tot_TL_closed_L6M             42064 non-null  int64  \n",
            " 6   pct_tl_open_L6M               42064 non-null  float64\n",
            " 7   pct_tl_closed_L6M             42064 non-null  float64\n",
            " 8   pct_active_tl                 42064 non-null  float64\n",
            " 9   pct_closed_tl                 42064 non-null  float64\n",
            " 10  Total_TL_opened_L12M          42064 non-null  int64  \n",
            " 11  Tot_TL_closed_L12M            42064 non-null  int64  \n",
            " 12  pct_tl_open_L12M              42064 non-null  float64\n",
            " 13  pct_tl_closed_L12M            42064 non-null  float64\n",
            " 14  Tot_Missed_Pmnt               42064 non-null  int64  \n",
            " 15  Auto_TL                       42064 non-null  int64  \n",
            " 16  CC_TL                         42064 non-null  int64  \n",
            " 17  Consumer_TL                   42064 non-null  int64  \n",
            " 18  Gold_TL                       42064 non-null  int64  \n",
            " 19  Home_TL                       42064 non-null  int64  \n",
            " 20  PL_TL                         42064 non-null  int64  \n",
            " 21  Secured_TL                    42064 non-null  int64  \n",
            " 22  Unsecured_TL                  42064 non-null  int64  \n",
            " 23  Other_TL                      42064 non-null  int64  \n",
            " 24  Age_Oldest_TL                 42064 non-null  int64  \n",
            " 25  Age_Newest_TL                 42064 non-null  int64  \n",
            " 26  time_since_recent_payment     42064 non-null  int64  \n",
            " 27  num_times_delinquent          42064 non-null  int64  \n",
            " 28  max_recent_level_of_deliq     42064 non-null  int64  \n",
            " 29  num_deliq_6mts                42064 non-null  int64  \n",
            " 30  num_deliq_12mts               42064 non-null  int64  \n",
            " 31  num_deliq_6_12mts             42064 non-null  int64  \n",
            " 32  num_times_30p_dpd             42064 non-null  int64  \n",
            " 33  num_times_60p_dpd             42064 non-null  int64  \n",
            " 34  num_std                       42064 non-null  int64  \n",
            " 35  num_std_6mts                  42064 non-null  int64  \n",
            " 36  num_std_12mts                 42064 non-null  int64  \n",
            " 37  num_sub                       42064 non-null  int64  \n",
            " 38  num_sub_6mts                  42064 non-null  int64  \n",
            " 39  num_sub_12mts                 42064 non-null  int64  \n",
            " 40  num_dbt                       42064 non-null  int64  \n",
            " 41  num_dbt_6mts                  42064 non-null  int64  \n",
            " 42  num_dbt_12mts                 42064 non-null  int64  \n",
            " 43  num_lss                       42064 non-null  int64  \n",
            " 44  num_lss_6mts                  42064 non-null  int64  \n",
            " 45  num_lss_12mts                 42064 non-null  int64  \n",
            " 46  recent_level_of_deliq         42064 non-null  int64  \n",
            " 47  tot_enq                       42064 non-null  int64  \n",
            " 48  CC_enq                        42064 non-null  int64  \n",
            " 49  CC_enq_L6m                    42064 non-null  int64  \n",
            " 50  CC_enq_L12m                   42064 non-null  int64  \n",
            " 51  PL_enq                        42064 non-null  int64  \n",
            " 52  PL_enq_L6m                    42064 non-null  int64  \n",
            " 53  PL_enq_L12m                   42064 non-null  int64  \n",
            " 54  time_since_recent_enq         42064 non-null  int64  \n",
            " 55  enq_L12m                      42064 non-null  int64  \n",
            " 56  enq_L6m                       42064 non-null  int64  \n",
            " 57  enq_L3m                       42064 non-null  int64  \n",
            " 58  EDUCATION                     42064 non-null  object \n",
            " 59  AGE                           42064 non-null  int64  \n",
            " 60  NETMONTHLYINCOME              42064 non-null  int64  \n",
            " 61  Time_With_Curr_Empr           42064 non-null  int64  \n",
            " 62  pct_of_active_TLs_ever        42064 non-null  float64\n",
            " 63  pct_opened_TLs_L6m_of_L12m    42064 non-null  float64\n",
            " 64  pct_currentBal_all_TL         42064 non-null  float64\n",
            " 65  CC_Flag                       42064 non-null  int64  \n",
            " 66  PL_Flag                       42064 non-null  int64  \n",
            " 67  pct_PL_enq_L6m_of_L12m        42064 non-null  float64\n",
            " 68  pct_CC_enq_L6m_of_L12m        42064 non-null  float64\n",
            " 69  pct_PL_enq_L6m_of_ever        42064 non-null  float64\n",
            " 70  pct_CC_enq_L6m_of_ever        42064 non-null  float64\n",
            " 71  HL_Flag                       42064 non-null  int64  \n",
            " 72  GL_Flag                       42064 non-null  int64  \n",
            " 73  Credit_Score                  42064 non-null  int64  \n",
            " 74  Approved_Flag                 42064 non-null  object \n",
            " 75  MARITALSTATUS_Married         42064 non-null  bool   \n",
            " 76  MARITALSTATUS_Single          42064 non-null  bool   \n",
            " 77  GENDER_F                      42064 non-null  bool   \n",
            " 78  GENDER_M                      42064 non-null  bool   \n",
            " 79  last_prod_enq2_AL             42064 non-null  bool   \n",
            " 80  last_prod_enq2_CC             42064 non-null  bool   \n",
            " 81  last_prod_enq2_ConsumerLoan   42064 non-null  bool   \n",
            " 82  last_prod_enq2_HL             42064 non-null  bool   \n",
            " 83  last_prod_enq2_PL             42064 non-null  bool   \n",
            " 84  last_prod_enq2_others         42064 non-null  bool   \n",
            " 85  first_prod_enq2_AL            42064 non-null  bool   \n",
            " 86  first_prod_enq2_CC            42064 non-null  bool   \n",
            " 87  first_prod_enq2_ConsumerLoan  42064 non-null  bool   \n",
            " 88  first_prod_enq2_HL            42064 non-null  bool   \n",
            " 89  first_prod_enq2_PL            42064 non-null  bool   \n",
            " 90  first_prod_enq2_others        42064 non-null  bool   \n",
            "dtypes: bool(16), float64(13), int64(60), object(2)\n",
            "memory usage: 24.7+ MB\n"
          ]
        }
      ]
    },
    {
      "cell_type": "code",
      "source": [
        "df['first_prod_enq2_others'] = df['first_prod_enq2_others'].astype(int)"
      ],
      "metadata": {
        "id": "RIw-ULh0X0z3"
      },
      "execution_count": 33,
      "outputs": []
    },
    {
      "cell_type": "code",
      "source": [
        "df.first_prod_enq2_ConsumerLoan.value_counts()"
      ],
      "metadata": {
        "colab": {
          "base_uri": "https://localhost:8080/"
        },
        "id": "sH-u615EX0xr",
        "outputId": "c2a46671-f556-44ff-d2ab-4b9c7c5f5e7a"
      },
      "execution_count": 34,
      "outputs": [
        {
          "output_type": "execute_result",
          "data": {
            "text/plain": [
              "first_prod_enq2_ConsumerLoan\n",
              "False    30989\n",
              "True     11075\n",
              "Name: count, dtype: int64"
            ]
          },
          "metadata": {},
          "execution_count": 34
        }
      ]
    },
    {
      "cell_type": "markdown",
      "source": [
        "**Creating new CSV file for for cleaned data**"
      ],
      "metadata": {
        "id": "uOi5n2EYnqXQ"
      }
    },
    {
      "cell_type": "code",
      "source": [
        "df.to_csv('Clean_Bank_Data')"
      ],
      "metadata": {
        "id": "Ga-SJqbeX0s6"
      },
      "execution_count": 35,
      "outputs": []
    },
    {
      "cell_type": "code",
      "source": [
        "from sklearn.preprocessing import LabelEncoder\n",
        "label_encoder = LabelEncoder()\n",
        "df['Approved_Flag'] = label_encoder.fit_transform(df['Approved_Flag'])"
      ],
      "metadata": {
        "id": "sgRvrBMvQLi4"
      },
      "execution_count": 38,
      "outputs": []
    },
    {
      "cell_type": "code",
      "source": [
        "df.Approved_Flag.value_counts()"
      ],
      "metadata": {
        "colab": {
          "base_uri": "https://localhost:8080/"
        },
        "id": "PxNVQa5XPuh2",
        "outputId": "4025156e-94f4-4804-a7bc-4a866fc88544"
      },
      "execution_count": 39,
      "outputs": [
        {
          "output_type": "execute_result",
          "data": {
            "text/plain": [
              "Approved_Flag\n",
              "1    25452\n",
              "2     6440\n",
              "3     5264\n",
              "0     4908\n",
              "Name: count, dtype: int64"
            ]
          },
          "metadata": {},
          "execution_count": 39
        }
      ]
    },
    {
      "cell_type": "code",
      "source": [
        "y = df['Approved_Flag']\n",
        "x = df.drop(['Approved_Flag'],axis=1)"
      ],
      "metadata": {
        "id": "otUsyf36QLV5"
      },
      "execution_count": 40,
      "outputs": []
    },
    {
      "cell_type": "code",
      "source": [
        "x.shape,y.shape"
      ],
      "metadata": {
        "colab": {
          "base_uri": "https://localhost:8080/"
        },
        "id": "HMC5zVywjmhF",
        "outputId": "9d9fb7b2-5bc7-4865-824e-17fdb650ea84"
      },
      "execution_count": 42,
      "outputs": [
        {
          "output_type": "execute_result",
          "data": {
            "text/plain": [
              "((42064, 90), (42064,))"
            ]
          },
          "metadata": {},
          "execution_count": 42
        }
      ]
    },
    {
      "cell_type": "markdown",
      "source": [
        "# **Model Fitting**"
      ],
      "metadata": {
        "id": "jAMSHwobevEL"
      }
    },
    {
      "cell_type": "code",
      "source": [
        "y = df['Approved_Flag']\n",
        "x = df.drop(['Approved_Flag'],axis=1)\n",
        "from sklearn.model_selection import train_test_split\n",
        "x_train,x_test,y_train,y_test =train_test_split(x,y,test_size=0.2,random_state=786)"
      ],
      "metadata": {
        "id": "HxpMYoGNI_6Y"
      },
      "execution_count": 44,
      "outputs": []
    },
    {
      "cell_type": "code",
      "source": [
        "from sklearn.ensemble import RandomForestClassifier\n",
        "model = RandomForestClassifier(n_estimators=200,random_state=40)\n",
        "model.fit(x_train,y_train)"
      ],
      "metadata": {
        "id": "IfRs28QLLnh2",
        "colab": {
          "base_uri": "https://localhost:8080/",
          "height": 74
        },
        "outputId": "84bb88e5-6f61-4399-84f7-e871f78c1920"
      },
      "execution_count": 45,
      "outputs": [
        {
          "output_type": "execute_result",
          "data": {
            "text/plain": [
              "RandomForestClassifier(n_estimators=200, random_state=40)"
            ],
            "text/html": [
              "<style>#sk-container-id-1 {color: black;background-color: white;}#sk-container-id-1 pre{padding: 0;}#sk-container-id-1 div.sk-toggleable {background-color: white;}#sk-container-id-1 label.sk-toggleable__label {cursor: pointer;display: block;width: 100%;margin-bottom: 0;padding: 0.3em;box-sizing: border-box;text-align: center;}#sk-container-id-1 label.sk-toggleable__label-arrow:before {content: \"▸\";float: left;margin-right: 0.25em;color: #696969;}#sk-container-id-1 label.sk-toggleable__label-arrow:hover:before {color: black;}#sk-container-id-1 div.sk-estimator:hover label.sk-toggleable__label-arrow:before {color: black;}#sk-container-id-1 div.sk-toggleable__content {max-height: 0;max-width: 0;overflow: hidden;text-align: left;background-color: #f0f8ff;}#sk-container-id-1 div.sk-toggleable__content pre {margin: 0.2em;color: black;border-radius: 0.25em;background-color: #f0f8ff;}#sk-container-id-1 input.sk-toggleable__control:checked~div.sk-toggleable__content {max-height: 200px;max-width: 100%;overflow: auto;}#sk-container-id-1 input.sk-toggleable__control:checked~label.sk-toggleable__label-arrow:before {content: \"▾\";}#sk-container-id-1 div.sk-estimator input.sk-toggleable__control:checked~label.sk-toggleable__label {background-color: #d4ebff;}#sk-container-id-1 div.sk-label input.sk-toggleable__control:checked~label.sk-toggleable__label {background-color: #d4ebff;}#sk-container-id-1 input.sk-hidden--visually {border: 0;clip: rect(1px 1px 1px 1px);clip: rect(1px, 1px, 1px, 1px);height: 1px;margin: -1px;overflow: hidden;padding: 0;position: absolute;width: 1px;}#sk-container-id-1 div.sk-estimator {font-family: monospace;background-color: #f0f8ff;border: 1px dotted black;border-radius: 0.25em;box-sizing: border-box;margin-bottom: 0.5em;}#sk-container-id-1 div.sk-estimator:hover {background-color: #d4ebff;}#sk-container-id-1 div.sk-parallel-item::after {content: \"\";width: 100%;border-bottom: 1px solid gray;flex-grow: 1;}#sk-container-id-1 div.sk-label:hover label.sk-toggleable__label {background-color: #d4ebff;}#sk-container-id-1 div.sk-serial::before {content: \"\";position: absolute;border-left: 1px solid gray;box-sizing: border-box;top: 0;bottom: 0;left: 50%;z-index: 0;}#sk-container-id-1 div.sk-serial {display: flex;flex-direction: column;align-items: center;background-color: white;padding-right: 0.2em;padding-left: 0.2em;position: relative;}#sk-container-id-1 div.sk-item {position: relative;z-index: 1;}#sk-container-id-1 div.sk-parallel {display: flex;align-items: stretch;justify-content: center;background-color: white;position: relative;}#sk-container-id-1 div.sk-item::before, #sk-container-id-1 div.sk-parallel-item::before {content: \"\";position: absolute;border-left: 1px solid gray;box-sizing: border-box;top: 0;bottom: 0;left: 50%;z-index: -1;}#sk-container-id-1 div.sk-parallel-item {display: flex;flex-direction: column;z-index: 1;position: relative;background-color: white;}#sk-container-id-1 div.sk-parallel-item:first-child::after {align-self: flex-end;width: 50%;}#sk-container-id-1 div.sk-parallel-item:last-child::after {align-self: flex-start;width: 50%;}#sk-container-id-1 div.sk-parallel-item:only-child::after {width: 0;}#sk-container-id-1 div.sk-dashed-wrapped {border: 1px dashed gray;margin: 0 0.4em 0.5em 0.4em;box-sizing: border-box;padding-bottom: 0.4em;background-color: white;}#sk-container-id-1 div.sk-label label {font-family: monospace;font-weight: bold;display: inline-block;line-height: 1.2em;}#sk-container-id-1 div.sk-label-container {text-align: center;}#sk-container-id-1 div.sk-container {/* jupyter's `normalize.less` sets `[hidden] { display: none; }` but bootstrap.min.css set `[hidden] { display: none !important; }` so we also need the `!important` here to be able to override the default hidden behavior on the sphinx rendered scikit-learn.org. See: https://github.com/scikit-learn/scikit-learn/issues/21755 */display: inline-block !important;position: relative;}#sk-container-id-1 div.sk-text-repr-fallback {display: none;}</style><div id=\"sk-container-id-1\" class=\"sk-top-container\"><div class=\"sk-text-repr-fallback\"><pre>RandomForestClassifier(n_estimators=200, random_state=40)</pre><b>In a Jupyter environment, please rerun this cell to show the HTML representation or trust the notebook. <br />On GitHub, the HTML representation is unable to render, please try loading this page with nbviewer.org.</b></div><div class=\"sk-container\" hidden><div class=\"sk-item\"><div class=\"sk-estimator sk-toggleable\"><input class=\"sk-toggleable__control sk-hidden--visually\" id=\"sk-estimator-id-1\" type=\"checkbox\" checked><label for=\"sk-estimator-id-1\" class=\"sk-toggleable__label sk-toggleable__label-arrow\">RandomForestClassifier</label><div class=\"sk-toggleable__content\"><pre>RandomForestClassifier(n_estimators=200, random_state=40)</pre></div></div></div></div></div>"
            ]
          },
          "metadata": {},
          "execution_count": 45
        }
      ]
    },
    {
      "cell_type": "code",
      "source": [
        "y_p = model.predict(x_test)\n",
        "from sklearn.metrics import classification_report\n",
        "print(classification_report(y_test,y_p))"
      ],
      "metadata": {
        "id": "BRltxaQ8Mxxc",
        "colab": {
          "base_uri": "https://localhost:8080/"
        },
        "outputId": "f0a57848-3c48-4fe7-eaa2-6ff9ef6c809b"
      },
      "execution_count": 46,
      "outputs": [
        {
          "output_type": "stream",
          "name": "stdout",
          "text": [
            "              precision    recall  f1-score   support\n",
            "\n",
            "           0       0.95      0.99      0.97      1046\n",
            "           1       0.99      1.00      1.00      5073\n",
            "           2       1.00      0.94      0.97      1284\n",
            "           3       1.00      1.00      1.00      1010\n",
            "\n",
            "    accuracy                           0.99      8413\n",
            "   macro avg       0.98      0.98      0.98      8413\n",
            "weighted avg       0.99      0.99      0.99      8413\n",
            "\n"
          ]
        }
      ]
    },
    {
      "cell_type": "code",
      "source": [
        "from sklearn.tree import DecisionTreeClassifier\n",
        "mode = DecisionTreeClassifier(criterion='gini',splitter='best', max_depth=25)\n",
        "mode.fit(x_train,y_train)"
      ],
      "metadata": {
        "id": "aEiRUAOLPmbk",
        "colab": {
          "base_uri": "https://localhost:8080/",
          "height": 74
        },
        "outputId": "e000f48c-6855-4f64-fa94-4174c7dd60b9"
      },
      "execution_count": 62,
      "outputs": [
        {
          "output_type": "execute_result",
          "data": {
            "text/plain": [
              "DecisionTreeClassifier(max_depth=25)"
            ],
            "text/html": [
              "<style>#sk-container-id-4 {color: black;background-color: white;}#sk-container-id-4 pre{padding: 0;}#sk-container-id-4 div.sk-toggleable {background-color: white;}#sk-container-id-4 label.sk-toggleable__label {cursor: pointer;display: block;width: 100%;margin-bottom: 0;padding: 0.3em;box-sizing: border-box;text-align: center;}#sk-container-id-4 label.sk-toggleable__label-arrow:before {content: \"▸\";float: left;margin-right: 0.25em;color: #696969;}#sk-container-id-4 label.sk-toggleable__label-arrow:hover:before {color: black;}#sk-container-id-4 div.sk-estimator:hover label.sk-toggleable__label-arrow:before {color: black;}#sk-container-id-4 div.sk-toggleable__content {max-height: 0;max-width: 0;overflow: hidden;text-align: left;background-color: #f0f8ff;}#sk-container-id-4 div.sk-toggleable__content pre {margin: 0.2em;color: black;border-radius: 0.25em;background-color: #f0f8ff;}#sk-container-id-4 input.sk-toggleable__control:checked~div.sk-toggleable__content {max-height: 200px;max-width: 100%;overflow: auto;}#sk-container-id-4 input.sk-toggleable__control:checked~label.sk-toggleable__label-arrow:before {content: \"▾\";}#sk-container-id-4 div.sk-estimator input.sk-toggleable__control:checked~label.sk-toggleable__label {background-color: #d4ebff;}#sk-container-id-4 div.sk-label input.sk-toggleable__control:checked~label.sk-toggleable__label {background-color: #d4ebff;}#sk-container-id-4 input.sk-hidden--visually {border: 0;clip: rect(1px 1px 1px 1px);clip: rect(1px, 1px, 1px, 1px);height: 1px;margin: -1px;overflow: hidden;padding: 0;position: absolute;width: 1px;}#sk-container-id-4 div.sk-estimator {font-family: monospace;background-color: #f0f8ff;border: 1px dotted black;border-radius: 0.25em;box-sizing: border-box;margin-bottom: 0.5em;}#sk-container-id-4 div.sk-estimator:hover {background-color: #d4ebff;}#sk-container-id-4 div.sk-parallel-item::after {content: \"\";width: 100%;border-bottom: 1px solid gray;flex-grow: 1;}#sk-container-id-4 div.sk-label:hover label.sk-toggleable__label {background-color: #d4ebff;}#sk-container-id-4 div.sk-serial::before {content: \"\";position: absolute;border-left: 1px solid gray;box-sizing: border-box;top: 0;bottom: 0;left: 50%;z-index: 0;}#sk-container-id-4 div.sk-serial {display: flex;flex-direction: column;align-items: center;background-color: white;padding-right: 0.2em;padding-left: 0.2em;position: relative;}#sk-container-id-4 div.sk-item {position: relative;z-index: 1;}#sk-container-id-4 div.sk-parallel {display: flex;align-items: stretch;justify-content: center;background-color: white;position: relative;}#sk-container-id-4 div.sk-item::before, #sk-container-id-4 div.sk-parallel-item::before {content: \"\";position: absolute;border-left: 1px solid gray;box-sizing: border-box;top: 0;bottom: 0;left: 50%;z-index: -1;}#sk-container-id-4 div.sk-parallel-item {display: flex;flex-direction: column;z-index: 1;position: relative;background-color: white;}#sk-container-id-4 div.sk-parallel-item:first-child::after {align-self: flex-end;width: 50%;}#sk-container-id-4 div.sk-parallel-item:last-child::after {align-self: flex-start;width: 50%;}#sk-container-id-4 div.sk-parallel-item:only-child::after {width: 0;}#sk-container-id-4 div.sk-dashed-wrapped {border: 1px dashed gray;margin: 0 0.4em 0.5em 0.4em;box-sizing: border-box;padding-bottom: 0.4em;background-color: white;}#sk-container-id-4 div.sk-label label {font-family: monospace;font-weight: bold;display: inline-block;line-height: 1.2em;}#sk-container-id-4 div.sk-label-container {text-align: center;}#sk-container-id-4 div.sk-container {/* jupyter's `normalize.less` sets `[hidden] { display: none; }` but bootstrap.min.css set `[hidden] { display: none !important; }` so we also need the `!important` here to be able to override the default hidden behavior on the sphinx rendered scikit-learn.org. See: https://github.com/scikit-learn/scikit-learn/issues/21755 */display: inline-block !important;position: relative;}#sk-container-id-4 div.sk-text-repr-fallback {display: none;}</style><div id=\"sk-container-id-4\" class=\"sk-top-container\"><div class=\"sk-text-repr-fallback\"><pre>DecisionTreeClassifier(max_depth=25)</pre><b>In a Jupyter environment, please rerun this cell to show the HTML representation or trust the notebook. <br />On GitHub, the HTML representation is unable to render, please try loading this page with nbviewer.org.</b></div><div class=\"sk-container\" hidden><div class=\"sk-item\"><div class=\"sk-estimator sk-toggleable\"><input class=\"sk-toggleable__control sk-hidden--visually\" id=\"sk-estimator-id-4\" type=\"checkbox\" checked><label for=\"sk-estimator-id-4\" class=\"sk-toggleable__label sk-toggleable__label-arrow\">DecisionTreeClassifier</label><div class=\"sk-toggleable__content\"><pre>DecisionTreeClassifier(max_depth=25)</pre></div></div></div></div></div>"
            ]
          },
          "metadata": {},
          "execution_count": 62
        }
      ]
    },
    {
      "cell_type": "code",
      "source": [
        "y_pred= mode.predict(x_test)\n",
        "print(classification_report(y_test,y_pred))"
      ],
      "metadata": {
        "id": "CvTxBl6-RbWJ",
        "colab": {
          "base_uri": "https://localhost:8080/"
        },
        "outputId": "066eb35d-21f8-4e52-f497-2caba9a7f19d"
      },
      "execution_count": 63,
      "outputs": [
        {
          "output_type": "stream",
          "name": "stdout",
          "text": [
            "              precision    recall  f1-score   support\n",
            "\n",
            "           0       1.00      1.00      1.00      1046\n",
            "           1       1.00      1.00      1.00      5073\n",
            "           2       1.00      1.00      1.00      1284\n",
            "           3       1.00      1.00      1.00      1010\n",
            "\n",
            "    accuracy                           1.00      8413\n",
            "   macro avg       1.00      1.00      1.00      8413\n",
            "weighted avg       1.00      1.00      1.00      8413\n",
            "\n"
          ]
        }
      ]
    },
    {
      "cell_type": "markdown",
      "source": [
        "Decision  Tree Algorithm gave the best result on classification report .Therefore we can use it for further deployment process of the model"
      ],
      "metadata": {
        "id": "32ISIq3IoCdF"
      }
    }
  ]
}